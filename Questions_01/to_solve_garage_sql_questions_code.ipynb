{
  "cells": [
    {
      "cell_type": "markdown",
      "source": [
        "<table align=\"left\">\n",
        "  <td>\n",
        "    <a href=\"https://colab.research.google.com/github/pavanhalde21/PySpark_lecture_files/blob/main/Questions_01/to_solve_garage_sql_questions_code.ipynb\" target=\"_parent\"><img src=\"https://colab.research.google.com/assets/colab-badge.svg\" alt=\"Open In Colab\"/></a>\n",
        "  </td>\n",
        "</table>"
      ],
      "metadata": {
        "id": "bdQZjJMVrePO"
      },
      "id": "bdQZjJMVrePO"
    },
    {
      "cell_type": "code",
      "execution_count": null,
      "metadata": {
        "id": "nGPqcxb9rdpn"
      },
      "outputs": [],
      "source": [
        "# Garage Data System – SQL Questions\n",
        "# ---\n",
        "# This notebook contains 60 SQL practice questions.\n"
      ],
      "id": "nGPqcxb9rdpn"
    },
    {
      "cell_type": "code",
      "execution_count": null,
      "metadata": {
        "id": "ZAy5vfw_rdpo"
      },
      "outputs": [],
      "source": [
        "# Q.1: List all the customers serviced.\n"
      ],
      "id": "ZAy5vfw_rdpo"
    },
    {
      "cell_type": "code",
      "execution_count": null,
      "metadata": {
        "id": "8y8i_a9zrdpo"
      },
      "outputs": [],
      "source": [
        "# Q.2: Customers who are not serviced.\n"
      ],
      "id": "8y8i_a9zrdpo"
    },
    {
      "cell_type": "code",
      "execution_count": null,
      "metadata": {
        "id": "Lqd1hGwurdpp"
      },
      "outputs": [],
      "source": [
        "# Q.3: Employees who have not received the commission.\n"
      ],
      "id": "Lqd1hGwurdpp"
    },
    {
      "cell_type": "code",
      "execution_count": null,
      "metadata": {
        "id": "GbBJE8xhrdpp"
      },
      "outputs": [],
      "source": [
        "# Q.4: Name the employee who have maximum Commission.\n"
      ],
      "id": "GbBJE8xhrdpp"
    },
    {
      "cell_type": "code",
      "execution_count": null,
      "metadata": {
        "id": "rJNOoGhUrdpp"
      },
      "outputs": [],
      "source": [
        "# Q.5: Show employee name and minimum commission amount received by an employee.\n"
      ],
      "id": "rJNOoGhUrdpp"
    },
    {
      "cell_type": "code",
      "execution_count": null,
      "metadata": {
        "id": "hAJ4KDrwrdpp"
      },
      "outputs": [],
      "source": [
        "# Q.6: Display the Middle record from any table.\n"
      ],
      "id": "hAJ4KDrwrdpp"
    },
    {
      "cell_type": "code",
      "execution_count": null,
      "metadata": {
        "id": "ooLflBIDrdpp"
      },
      "outputs": [],
      "source": [
        "# Q.7: Display last 4 records of any table.\n"
      ],
      "id": "ooLflBIDrdpp"
    },
    {
      "cell_type": "code",
      "execution_count": null,
      "metadata": {
        "id": "uV1yKbqcrdpp"
      },
      "outputs": [],
      "source": [
        "# Q.8: Count the number of records without count function from any table.\n"
      ],
      "id": "uV1yKbqcrdpp"
    },
    {
      "cell_type": "code",
      "execution_count": null,
      "metadata": {
        "id": "E7s9-YXcrdpp"
      },
      "outputs": [],
      "source": [
        "# Q.9: Delete duplicate records from \"Ser_det\" table on cid.\n"
      ],
      "id": "E7s9-YXcrdpp"
    },
    {
      "cell_type": "code",
      "execution_count": null,
      "metadata": {
        "id": "op4cbQSUrdpp"
      },
      "outputs": [],
      "source": [
        "# Q.10: Show the name of Customer who have paid maximum amount.\n"
      ],
      "id": "op4cbQSUrdpp"
    },
    {
      "cell_type": "code",
      "execution_count": null,
      "metadata": {
        "id": "emrHxrJNrdpp"
      },
      "outputs": [],
      "source": [
        "# Q.11: Display Employees who are not currently working.\n"
      ],
      "id": "emrHxrJNrdpp"
    },
    {
      "cell_type": "code",
      "execution_count": null,
      "metadata": {
        "id": "XKfIsJ3Ordpp"
      },
      "outputs": [],
      "source": [
        "# Q.12: How many customers serviced their two wheelers.\n"
      ],
      "id": "XKfIsJ3Ordpp"
    },
    {
      "cell_type": "code",
      "execution_count": null,
      "metadata": {
        "id": "9dENuyPBrdpp"
      },
      "outputs": [],
      "source": [
        "# Q.13: List the Purchased Items which are used for Customer Service with Unit of that Item.\n"
      ],
      "id": "9dENuyPBrdpp"
    },
    {
      "cell_type": "code",
      "execution_count": null,
      "metadata": {
        "id": "FsVxR9-lrdpp"
      },
      "outputs": [],
      "source": [
        "# Q.14: Customers who have Colored their vehicles.\n"
      ],
      "id": "FsVxR9-lrdpp"
    },
    {
      "cell_type": "code",
      "execution_count": null,
      "metadata": {
        "id": "ix00XF65rdpq"
      },
      "outputs": [],
      "source": [
        "# Q.15: Find the annual income of each employee inclusive of Commission.\n"
      ],
      "id": "ix00XF65rdpq"
    },
    {
      "cell_type": "code",
      "execution_count": null,
      "metadata": {
        "id": "zRI70biXrdpq"
      },
      "outputs": [],
      "source": [
        "# Q.16: Vendor Names who provides the engine oil.\n"
      ],
      "id": "zRI70biXrdpq"
    },
    {
      "cell_type": "code",
      "execution_count": null,
      "metadata": {
        "id": "lmn7lEmUrdpq"
      },
      "outputs": [],
      "source": [
        "# Q.17: Total Cost to purchase the Color and name the color purchased.\n"
      ],
      "id": "lmn7lEmUrdpq"
    },
    {
      "cell_type": "code",
      "execution_count": null,
      "metadata": {
        "id": "m8CtJ3mcrdpq"
      },
      "outputs": [],
      "source": [
        "# Q.18: Purchased Items which are not used in \"Ser_det\".\n"
      ],
      "id": "m8CtJ3mcrdpq"
    },
    {
      "cell_type": "code",
      "execution_count": null,
      "metadata": {
        "id": "TKv271O9rdpq"
      },
      "outputs": [],
      "source": [
        "# Q.19: Spare Parts Not Purchased but existing in Sparepart.\n"
      ],
      "id": "TKv271O9rdpq"
    },
    {
      "cell_type": "code",
      "execution_count": null,
      "metadata": {
        "id": "32DtAlH6rdpq"
      },
      "outputs": [],
      "source": [
        "# Q.20: Calculate the Profit/Loss of the Firm.\n"
      ],
      "id": "32DtAlH6rdpq"
    },
    {
      "cell_type": "code",
      "execution_count": null,
      "metadata": {
        "id": "8aqTxm42rdpq"
      },
      "outputs": [],
      "source": [
        "# Q.21: Specify the names of customers who have serviced their vehicles more than one time.\n"
      ],
      "id": "8aqTxm42rdpq"
    },
    {
      "cell_type": "code",
      "execution_count": null,
      "metadata": {
        "id": "mN_30N9Mrdpq"
      },
      "outputs": [],
      "source": [
        "# Q.22: List the Items purchased from vendors locationwise.\n"
      ],
      "id": "mN_30N9Mrdpq"
    },
    {
      "cell_type": "code",
      "execution_count": null,
      "metadata": {
        "id": "7g-vFhq8rdpq"
      },
      "outputs": [],
      "source": [
        "# Q.23: Display count of two wheeler and four wheeler from ser_details.\n"
      ],
      "id": "7g-vFhq8rdpq"
    },
    {
      "cell_type": "code",
      "execution_count": null,
      "metadata": {
        "id": "xbFeC8Zurdpq"
      },
      "outputs": [],
      "source": [
        "# Q.24: Display name of customers who paid highest SPGST and for which item.\n"
      ],
      "id": "xbFeC8Zurdpq"
    },
    {
      "cell_type": "code",
      "execution_count": null,
      "metadata": {
        "id": "O4w_VD8Nrdpq"
      },
      "outputs": [],
      "source": [
        "# Q.25: Display vendors name who have charged highest SPGST rate for which item.\n"
      ],
      "id": "O4w_VD8Nrdpq"
    },
    {
      "cell_type": "code",
      "execution_count": null,
      "metadata": {
        "id": "D7It07Zordpq"
      },
      "outputs": [],
      "source": [
        "# Q.26: List name of item and employee name who have received item.\n"
      ],
      "id": "D7It07Zordpq"
    },
    {
      "cell_type": "code",
      "execution_count": null,
      "metadata": {
        "id": "IKoL0xXwrdpq"
      },
      "outputs": [],
      "source": [
        "# Q.27: Display Customer Name, Vehicle Number, Item Used, Purchase Date, Vendor, and Location.\n"
      ],
      "id": "IKoL0xXwrdpq"
    },
    {
      "cell_type": "code",
      "execution_count": null,
      "metadata": {
        "id": "JWa-JEvkrdpq"
      },
      "outputs": [],
      "source": [
        "# Q.28: Who belong this vehicle 'MH14PA335'? Display the customer name.\n"
      ],
      "id": "JWa-JEvkrdpq"
    },
    {
      "cell_type": "code",
      "execution_count": null,
      "metadata": {
        "id": "2UBmNINirdpq"
      },
      "outputs": [],
      "source": [
        "# Q.29: Display the name of customer from New York and their vehicle service date.\n"
      ],
      "id": "2UBmNINirdpq"
    },
    {
      "cell_type": "code",
      "execution_count": null,
      "metadata": {
        "id": "oO7WKakmrdpq"
      },
      "outputs": [],
      "source": [
        "# Q.30: From whom we have purchased items having maximum cost?\n"
      ],
      "id": "oO7WKakmrdpq"
    },
    {
      "cell_type": "code",
      "execution_count": null,
      "metadata": {
        "id": "A66iBVS7rdpq"
      },
      "outputs": [],
      "source": [
        "# Q.31: Display employees who are not 'Mechanic' and have done services.\n"
      ],
      "id": "A66iBVS7rdpq"
    },
    {
      "cell_type": "code",
      "execution_count": null,
      "metadata": {
        "id": "apI5Rtc1rdpq"
      },
      "outputs": [],
      "source": [
        "# Q.32: Display jobs with more than two employees.\n"
      ],
      "id": "apI5Rtc1rdpq"
    },
    {
      "cell_type": "code",
      "execution_count": null,
      "metadata": {
        "id": "BUcspfGVrdpq"
      },
      "outputs": [],
      "source": [
        "# Q.33: Display details of employees who did a service and rank them by number of services.\n"
      ],
      "id": "BUcspfGVrdpq"
    },
    {
      "cell_type": "code",
      "execution_count": null,
      "metadata": {
        "id": "Atp0tBrfrdpq"
      },
      "outputs": [],
      "source": [
        "# Q.34: Display painter/fitter employees who provided a service and total service count for each.\n"
      ],
      "id": "Atp0tBrfrdpq"
    },
    {
      "cell_type": "code",
      "execution_count": null,
      "metadata": {
        "id": "qOSjo4h0rdpq"
      },
      "outputs": [],
      "source": [
        "# Q.35: Display employee salary and provide a Grade based on salary.\n"
      ],
      "id": "qOSjo4h0rdpq"
    },
    {
      "cell_type": "code",
      "execution_count": null,
      "metadata": {
        "id": "n1b2J2OTrdpr"
      },
      "outputs": [],
      "source": [
        "# Q.36: Display the 4th record of emp table without using group by and rowid.\n"
      ],
      "id": "n1b2J2OTrdpr"
    },
    {
      "cell_type": "code",
      "execution_count": null,
      "metadata": {
        "id": "-qpUB5U-rdpr"
      },
      "outputs": [],
      "source": [
        "# Q.37: Provide a commission 100 to employees who are not earning any commission.\n"
      ],
      "id": "-qpUB5U-rdpr"
    },
    {
      "cell_type": "code",
      "execution_count": null,
      "metadata": {
        "id": "4omiMGaSrdpr"
      },
      "outputs": [],
      "source": [
        "# Q.38: Write a query that totals no. of services for each day and place the results in descending order.\n"
      ],
      "id": "4omiMGaSrdpr"
    },
    {
      "cell_type": "code",
      "execution_count": null,
      "metadata": {
        "id": "eQRy7_CWrdpr"
      },
      "outputs": [],
      "source": [
        "# Q.39: Display the service details of those customer who belong from same city.\n"
      ],
      "id": "eQRy7_CWrdpr"
    },
    {
      "cell_type": "code",
      "execution_count": null,
      "metadata": {
        "id": "OgkiNAy-rdpr"
      },
      "outputs": [],
      "source": [
        "# Q.40: Write a query join customers table to itself to find all pairs of customers serviced by a single employee.\n"
      ],
      "id": "OgkiNAy-rdpr"
    },
    {
      "cell_type": "code",
      "execution_count": null,
      "metadata": {
        "id": "a5IYgBP1rdpr"
      },
      "outputs": [],
      "source": [
        "# Q.41: List each service number followed by name of the customer who made that service.\n"
      ],
      "id": "a5IYgBP1rdpr"
    },
    {
      "cell_type": "code",
      "execution_count": null,
      "metadata": {
        "id": "7ATdiCPvrdpr"
      },
      "outputs": [],
      "source": [
        "# Q.42: Write a query to get details of employee and provide rating on basis of maximum services provide by employee. (A,B,C,D).\n"
      ],
      "id": "7ATdiCPvrdpr"
    },
    {
      "cell_type": "code",
      "execution_count": null,
      "metadata": {
        "id": "LUZYzQkmrdpr"
      },
      "outputs": [],
      "source": [
        "# Q.43: Write a query to get maximum service amount of each customer with their customer details.\n"
      ],
      "id": "LUZYzQkmrdpr"
    },
    {
      "cell_type": "code",
      "execution_count": null,
      "metadata": {
        "id": "dAh9AT0ordpr"
      },
      "outputs": [],
      "source": [
        "# Q.44: Get the details of customers with his total no of services.\n"
      ],
      "id": "dAh9AT0ordpr"
    },
    {
      "cell_type": "code",
      "execution_count": null,
      "metadata": {
        "id": "wLgxWuTgrdpr"
      },
      "outputs": [],
      "source": [
        "# Q.45: From which location sparepart purchased with highest cost?\n"
      ],
      "id": "wLgxWuTgrdpr"
    },
    {
      "cell_type": "code",
      "execution_count": null,
      "metadata": {
        "id": "P2PwTkj8rdpr"
      },
      "outputs": [],
      "source": [
        "# Q.46: Get the details of employee with their service details who has salary is null.\n"
      ],
      "id": "P2PwTkj8rdpr"
    },
    {
      "cell_type": "code",
      "execution_count": null,
      "metadata": {
        "id": "S4kC3Gscrdpr"
      },
      "outputs": [],
      "source": [
        "# Q.47: Find the sum of purchase location wise.\n"
      ],
      "id": "S4kC3Gscrdpr"
    },
    {
      "cell_type": "code",
      "execution_count": null,
      "metadata": {
        "id": "zR_YdxmYrdpr"
      },
      "outputs": [],
      "source": [
        "# Q.48: Write a query sum of purchase amount in word location wise?\n"
      ],
      "id": "zR_YdxmYrdpr"
    },
    {
      "cell_type": "code",
      "execution_count": null,
      "metadata": {
        "id": "bDyIyY9prdpr"
      },
      "outputs": [],
      "source": [
        "# Q.49: Has the customer who has spent the largest amount money has been given highest rating.\n"
      ],
      "id": "bDyIyY9prdpr"
    },
    {
      "cell_type": "code",
      "execution_count": null,
      "metadata": {
        "id": "GPIw9F6lrdpr"
      },
      "outputs": [],
      "source": [
        "# Q.50: Select the total amount in service for each customer for which the total is greater than the amount of the largest service amount in the table.\n"
      ],
      "id": "GPIw9F6lrdpr"
    },
    {
      "cell_type": "code",
      "execution_count": null,
      "metadata": {
        "id": "K8RXm6H1rdpr"
      },
      "outputs": [],
      "source": [
        "# Q.51: List the customer name and sparepart name used for their vehicle and vehicle type.\n"
      ],
      "id": "K8RXm6H1rdpr"
    },
    {
      "cell_type": "code",
      "execution_count": null,
      "metadata": {
        "id": "5h033cSsrdpr"
      },
      "outputs": [],
      "source": [
        "# Q.52: Write a query to get spname, ename, cname, quantity, rate, service amount for record exist in service table.\n"
      ],
      "id": "5h033cSsrdpr"
    },
    {
      "cell_type": "code",
      "execution_count": null,
      "metadata": {
        "id": "9J8Ke7Whrdpr"
      },
      "outputs": [],
      "source": [
        "# Q.53: Specify the vehicles owners whose tube damaged.\n"
      ],
      "id": "9J8Ke7Whrdpr"
    },
    {
      "cell_type": "code",
      "execution_count": null,
      "metadata": {
        "id": "N9ytrHfnrdpr"
      },
      "outputs": [],
      "source": [
        "# Q.54: Specify the details who have taken full service.\n"
      ],
      "id": "N9ytrHfnrdpr"
    },
    {
      "cell_type": "code",
      "execution_count": null,
      "metadata": {
        "id": "2lulauEErdps"
      },
      "outputs": [],
      "source": [
        "# Q.55: Select the employees who have not worked yet and left the job.\n"
      ],
      "id": "2lulauEErdps"
    },
    {
      "cell_type": "code",
      "execution_count": null,
      "metadata": {
        "id": "l7b4LjkWrdps"
      },
      "outputs": [],
      "source": [
        "# Q.56: Select employee who have worked first ever.\n"
      ],
      "id": "l7b4LjkWrdps"
    },
    {
      "cell_type": "code",
      "execution_count": null,
      "metadata": {
        "id": "T1r8eDVjrdps"
      },
      "outputs": [],
      "source": [
        "# Q.57: Display all records falling in odd date.\n"
      ],
      "id": "T1r8eDVjrdps"
    },
    {
      "cell_type": "code",
      "execution_count": null,
      "metadata": {
        "id": "b9UrJbmGrdps"
      },
      "outputs": [],
      "source": [
        "# Q.58: Display all records falling in even date.\n"
      ],
      "id": "b9UrJbmGrdps"
    },
    {
      "cell_type": "code",
      "execution_count": null,
      "metadata": {
        "id": "MQMa2fuXrdps"
      },
      "outputs": [],
      "source": [
        "# Q.59: Display the vendors whose material is not yet used.\n"
      ],
      "id": "MQMa2fuXrdps"
    },
    {
      "cell_type": "code",
      "execution_count": null,
      "metadata": {
        "id": "1LyD-k9Trdps"
      },
      "outputs": [],
      "source": [
        "# Q.60: Difference between purchase date and used date of spare part.\n"
      ],
      "id": "1LyD-k9Trdps"
    }
  ],
  "metadata": {
    "kernelspec": {
      "display_name": "Python 3",
      "language": "python",
      "name": "python3"
    },
    "language_info": {
      "name": "python",
      "version": "3.10"
    },
    "colab": {
      "provenance": []
    }
  },
  "nbformat": 4,
  "nbformat_minor": 5
}