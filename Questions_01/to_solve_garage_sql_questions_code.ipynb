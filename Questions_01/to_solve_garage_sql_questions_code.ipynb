{
  "cells": [
    {
      "cell_type": "markdown",
      "source": [
        "<table align=\"left\">\n",
        "  <td>\n",
        "    <a href=\"https://colab.research.google.com/github/pavanhalde21/PySpark_lecture_files/blob/main/Questions_01/to_solve_garage_sql_questions_code.ipynb\" target=\"_parent\"><img src=\"https://colab.research.google.com/assets/colab-badge.svg\" alt=\"Open In Colab\"/></a>\n",
        "  </td>\n",
        "</table>"
      ],
      "metadata": {
        "id": "bdQZjJMVrePO"
      },
      "id": "bdQZjJMVrePO"
    },
    {
      "cell_type": "markdown",
      "source": [
        "# Garage Data System – SQL Questions\n",
        "# This notebook contains 60 SQL practice questions."
      ],
      "metadata": {
        "id": "yPTAHxv7shEC"
      },
      "id": "yPTAHxv7shEC"
    },
    {
      "cell_type": "code",
      "source": [
        "# Cell 1: Install necessary libraries\n",
        "!pip install pyspark num2words --quiet"
      ],
      "metadata": {
        "id": "YxK-L9Fer1ds",
        "outputId": "f4f9468a-8083-4be8-b9a4-202e21aeb38f",
        "colab": {
          "base_uri": "https://localhost:8080/"
        }
      },
      "id": "YxK-L9Fer1ds",
      "execution_count": 1,
      "outputs": [
        {
          "output_type": "stream",
          "name": "stdout",
          "text": [
            "  Preparing metadata (setup.py) ... \u001b[?25l\u001b[?25hdone\n",
            "\u001b[?25l   \u001b[90m━━━━━━━━━━━━━━━━━━━━━━━━━━━━━━━━━━━━━━━━\u001b[0m \u001b[32m0.0/163.5 kB\u001b[0m \u001b[31m?\u001b[0m eta \u001b[36m-:--:--\u001b[0m\r\u001b[2K   \u001b[90m━━━━━━━━━━━━━━━━━━━━━━━━━━━━━━━━━━━━━━━━\u001b[0m \u001b[32m163.5/163.5 kB\u001b[0m \u001b[31m9.9 MB/s\u001b[0m eta \u001b[36m0:00:00\u001b[0m\n",
            "\u001b[?25h  Building wheel for docopt (setup.py) ... \u001b[?25l\u001b[?25hdone\n"
          ]
        }
      ]
    },
    {
      "cell_type": "code",
      "source": [
        "\n",
        "# Cell 2: Create dummy CSV files for the analysis\n",
        "%%writefile customer_table.csv\n",
        "cid,cname,cadd,contact,creditdays,date,gender\n",
        "1001,\"cyona blake\",NEW YORK,12345684,20,20-JAN-11,female\n",
        "1002,\"JOHN SMITH\",NEW JERSI,1341684,20,21-FEB-11,male\n",
        "1003,\"JORDEN WOOD\",PRAG,1805184,20,22-MAR-11,male\n",
        "1004,CHRISTANA,MANHATTON,1125684,31,23-APR-13,female\n",
        "1005,\"TOM HILL\",LONDON,1239284,10,25-JUN-15,male\n",
        "1006,\"KAMILA JOSEF\",PRAISE,124568,9,28-JUL-11,female\n",
        "1007,\"ANDRU SYMON\",TEXAS,125654,15,01-APR-16,male\n",
        "1008,\"SANJU SAMSUNG\",NEW YORK,12346341,4,20-JAN-16,male\n"
      ],
      "metadata": {
        "id": "UdR2HmQOr2P6",
        "outputId": "05100b27-5c03-407a-b461-0b43df05d1ac",
        "colab": {
          "base_uri": "https://localhost:8080/"
        }
      },
      "id": "UdR2HmQOr2P6",
      "execution_count": 2,
      "outputs": [
        {
          "output_type": "stream",
          "name": "stdout",
          "text": [
            "Writing customer_table.csv\n"
          ]
        }
      ]
    },
    {
      "cell_type": "code",
      "source": [
        "%%writefile ser_det_table.csv\n",
        "sid,cid,eid,spid,type_veh,veh_no,typ_ser,ser_date,qty,sp_rate,sp_amt,sp_g,ser_amt,comm,total\n",
        "6001,1001,3001,4001,TWO WHEELER,MH15CA3228,TUBE DAMAGED,02-JAN-11,1.0,250,250,35,50,0,335\n",
        "6002,1002,3002,4002,TWO WHEELER,MH16U5713,FULL SERVICING,04-MAR-11,1.0,400,400,52,300,50,752\n",
        "6003,1003,3004,4005,TWO WHEELER,MH12PQ1313,CLUTCH WIRE,22-AUG-11,1.0,129,129,0,10,0,139\n",
        "6004,1002,3002,4002,TWO WHEELER,MH16U5713,FULL SERVICING,05-MAY-11,1.0,400,400,52,300,50,752\n",
        "6005,1004,3001,4009,TWO WHEELER,MH14PA335,COLOR,21-OCT-11,2.5,340,850,119,500,150,1469\n",
        "6006,1006,3001,4009,TWO WHEELER,MH12WE334,COLOR,01-DEC-11,2.5,340,850,119,500,150,1469\n",
        "6007,1007,3001,4001,FOUR WHEELER,MH17BB1345,TUBE DAMAGED,01-JAN-12,1.0,250,250,35,150,0,435\n"
      ],
      "metadata": {
        "id": "fwhYhmVAr2TA",
        "outputId": "d8494e88-d3f6-4712-89e8-464c846a0d70",
        "colab": {
          "base_uri": "https://localhost:8080/"
        }
      },
      "id": "fwhYhmVAr2TA",
      "execution_count": 3,
      "outputs": [
        {
          "output_type": "stream",
          "name": "stdout",
          "text": [
            "Writing ser_det_table.csv\n"
          ]
        }
      ]
    },
    {
      "cell_type": "code",
      "source": [
        "%%writefile employee_table.csv\n",
        "eid,ename,ejob,eadd,econtact,esal,edoj,edol\n",
        "3001,\"STEVEN KING\",PAINTER,NEW YORK,10367454,1200,01-JAN-08,\n",
        "3002,\"DAVID AUSTIN\",FITTER,MANAHTON,10367434,1100,19-AUG-10,\n",
        "3003,\"BRUCE ERENST\",MECHANIC,NEW JERCY,10367264,2200,08-SEP-10,\n",
        "3004,\"LUIS POP\",MECHANIC,NEW JERCY,10367264,1700,19-OCT-19,06-SEP-10\n",
        "3005,\"SHERI GOMES\",FITTER,PARIS,10327264,1000,19-OCT-09,01-AUG-10\n",
        "3000,\"JAMES PHILIP\",FITTER,PARIS,10322264,,01-JAN-08,"
      ],
      "metadata": {
        "id": "5z1jWL6Mr2V2",
        "outputId": "5cb6540e-42a4-4b0f-f711-c5d06e932a25",
        "colab": {
          "base_uri": "https://localhost:8080/"
        }
      },
      "id": "5z1jWL6Mr2V2",
      "execution_count": 4,
      "outputs": [
        {
          "output_type": "stream",
          "name": "stdout",
          "text": [
            "Writing employee_table.csv\n"
          ]
        }
      ]
    },
    {
      "cell_type": "code",
      "source": [
        "%%writefile sparepart_table.csv\n",
        "spid,spname,sprate,spunit\n",
        "4001,TWO WHEELER TUBE,250,NOS\n",
        "4002,TWO WHEELER ENGINE OIL,400,LTRS\n",
        "4003,FOUR WHEELER ENGINE OIL,5000,LTRS\n",
        "4004,TWO WHEELER CARBORATOR,680,NOS\n",
        "4005,TWO WHEELER CLUTCH WIRE,129,MTRS\n",
        "4006,TWO WHEELER TAIIL LIGHT,100,NOS\n",
        "4007,TWO WHEELER INDICATORS,150,NOS\n",
        "4008,FOUR WHEELER GASKIT,1340,NOS\n",
        "4009,WHITE COLOUR,340,LTRS\n",
        "4010,BLACK COLOUR,240,LTRS\n",
        "4011,TWO WHEELER SIDE MIRROR,250,NOS\n",
        "4012,FOUR WHEELER SIDE MIRROR,450,NOS\n",
        "4013,TWO WHEELER SHOCKUP,1320,PAIR\n",
        "4014,FOUR WHEELER BUMPER,6000,NOS\n",
        "4015,FOUR WHEELER FRONT GLASS,7000,PCS"
      ],
      "metadata": {
        "id": "2pQH1p4Er2Ye",
        "outputId": "f1052cd5-720e-4d55-a982-213fbc826b2f",
        "colab": {
          "base_uri": "https://localhost:8080/"
        }
      },
      "id": "2pQH1p4Er2Ye",
      "execution_count": 5,
      "outputs": [
        {
          "output_type": "stream",
          "name": "stdout",
          "text": [
            "Writing sparepart_table.csv\n"
          ]
        }
      ]
    },
    {
      "cell_type": "code",
      "source": [
        "%%writefile purchase_table.csv\n",
        "pid,vid,spid,pqty,sprate,spgst,pdate,transcost,total,rcv_eid\n",
        "5001,2001,4001,10,250,350.0,01-JAN-11,1300,4150.0,3001\n",
        "5002,2002,4002,4,400,288.0,02-MAR-11,100,1988.0,3001\n",
        "5003,2003,4004,8,680,761.6,12-JUN-11,50,6251.6,3003\n",
        "5004,2004,4005,10,129,154.8,22-AUG-11,125,1569.8,3004\n",
        "5005,2005,4006,20,100,300.0,07-SEP-11,20,2320.0,3003\n",
        "5006,2006,4007,30,150,630.0,11-OCT-11,60,5190.0,3000\n",
        "5007,2001,4003,20,5000,14000.0,07-SEP-11,1000,115000.0,3000\n",
        "5008,2006,4005,1,129,15.48,12-OCT-11,50,194.48,3005\n",
        "5009,2006,4005,1,129,15.48,15-OCT-11,50,194.48,3005\n",
        "5010,2006,4009,5,340,238.0,20-OCT-11,0,1938.0,3005"
      ],
      "metadata": {
        "id": "IY0ePpK0r2bV",
        "outputId": "9c65a41d-d325-4735-84f6-7dc88f8788f2",
        "colab": {
          "base_uri": "https://localhost:8080/"
        }
      },
      "id": "IY0ePpK0r2bV",
      "execution_count": 6,
      "outputs": [
        {
          "output_type": "stream",
          "name": "stdout",
          "text": [
            "Writing purchase_table.csv\n"
          ]
        }
      ]
    },
    {
      "cell_type": "code",
      "source": [
        "%%writefile vendor_table.csv\n",
        "vid,vname,vadd,vcontact,vcreditdays,vdate\n",
        "2001,\"KIRAN PATIL\",PUNE,20535535,20,20-JAN-10\n",
        "2002,\"PRAKASH JAIN\",MUNBAI,2063564,10,05-NOV-11\n",
        "2003,\"SWAPNIL THETE\",NASHIK,25355352,15,18-MAR-10\n",
        "2004,\"AMOL SHENDE\",SATARA,23674776,18,07-APR-15\n",
        "2005,\"KARAN SINTRE\",BULDHANA,256756,30,22-APR-09\n",
        "2006,\"RAM KULKARNI\",OSMANABAD,20367454,21,09-JUL-10"
      ],
      "metadata": {
        "id": "RIX2fJ2jr2eM",
        "outputId": "2b741bf9-a408-49e8-b36b-bd8d0ead565c",
        "colab": {
          "base_uri": "https://localhost:8080/"
        }
      },
      "id": "RIX2fJ2jr2eM",
      "execution_count": 7,
      "outputs": [
        {
          "output_type": "stream",
          "name": "stdout",
          "text": [
            "Writing vendor_table.csv\n"
          ]
        }
      ]
    },
    {
      "cell_type": "code",
      "source": [
        "# =====================================================================\n",
        "# Garage Data System: Dual PySpark & SQL Analysis\n",
        "# =====================================================================\n",
        "\n",
        "from pyspark.sql import SparkSession\n",
        "from pyspark.sql import functions as F\n",
        "from pyspark.sql.window import Window\n",
        "from pyspark.sql.types import StringType\n",
        "from num2words import num2words  # You may need to run: pip install num2words\n",
        "\n",
        "# ---------------------------------------------------------------------\n",
        "# 1. Spark Session and Data Loading\n",
        "# ---------------------------------------------------------------------\n",
        "spark = SparkSession.builder.appName(\"GarageAnalysis\").getOrCreate()\n",
        "\n",
        "# Load data into DataFrames (expects CSV files in the working directory)\n",
        "customer_df = spark.read.csv(\"customer_table.csv\", header=True, inferSchema=True)\n",
        "ser_det_df = spark.read.csv(\"ser_det_table.csv\", header=True, inferSchema=True)\n",
        "employee_df = spark.read.csv(\"employee_table.csv\", header=True, inferSchema=True)\n",
        "sparepart_df = spark.read.csv(\"sparepart_table.csv\", header=True, inferSchema=True)\n",
        "purchase_df = spark.read.csv(\"purchase_table.csv\", header=True, inferSchema=True)\n",
        "vendor_df = spark.read.csv(\"vendor_table.csv\", header=True, inferSchema=True)\n",
        "\n",
        "# ---------------------------------------------------------------------\n",
        "# 2. Create Temporary Views for Spark SQL\n",
        "# ---------------------------------------------------------------------\n",
        "customer_df.createOrReplaceTempView(\"customer_table\")\n",
        "ser_det_df.createOrReplaceTempView(\"ser_det_table\")\n",
        "employee_df.createOrReplaceTempView(\"employee_table\")\n",
        "sparepart_df.createOrReplaceTempView(\"sparepart_table\")\n",
        "purchase_df.createOrReplaceTempView(\"purchase_table\")\n",
        "vendor_df.createOrReplaceTempView(\"vendor_table\")\n"
      ],
      "metadata": {
        "id": "aSaB0aoqsFUx"
      },
      "id": "aSaB0aoqsFUx",
      "execution_count": 8,
      "outputs": []
    },
    {
      "cell_type": "code",
      "source": [
        "print(\"customer_table\")\n",
        "customer_df.show(truncate=False)\n",
        "print(\"ser_det_table\")\n",
        "ser_det_df.show(truncate=False)\n",
        "print(\"employee_table\")\n",
        "employee_df.show(truncate=False)\n",
        "print(\"sparepart_table\")\n",
        "sparepart_df.show(truncate=False)\n",
        "print(\"purchase_table\")\n",
        "purchase_df.show(truncate=False)\n",
        "print(\"vendor_table\")\n",
        "vendor_df.show(truncate=False)\n"
      ],
      "metadata": {
        "id": "gwy9-xPosFXU",
        "outputId": "03a21fc2-ee1b-4beb-d3d4-ef956e38343c",
        "colab": {
          "base_uri": "https://localhost:8080/"
        }
      },
      "id": "gwy9-xPosFXU",
      "execution_count": 9,
      "outputs": [
        {
          "output_type": "stream",
          "name": "stdout",
          "text": [
            "customer_table\n",
            "+----+-------------+---------+--------+----------+---------+------+\n",
            "|cid |cname        |cadd     |contact |creditdays|date     |gender|\n",
            "+----+-------------+---------+--------+----------+---------+------+\n",
            "|1001|cyona blake  |NEW YORK |12345684|20        |20-JAN-11|female|\n",
            "|1002|JOHN SMITH   |NEW JERSI|1341684 |20        |21-FEB-11|male  |\n",
            "|1003|JORDEN WOOD  |PRAG     |1805184 |20        |22-MAR-11|male  |\n",
            "|1004|CHRISTANA    |MANHATTON|1125684 |31        |23-APR-13|female|\n",
            "|1005|TOM HILL     |LONDON   |1239284 |10        |25-JUN-15|male  |\n",
            "|1006|KAMILA JOSEF |PRAISE   |124568  |9         |28-JUL-11|female|\n",
            "|1007|ANDRU SYMON  |TEXAS    |125654  |15        |01-APR-16|male  |\n",
            "|1008|SANJU SAMSUNG|NEW YORK |12346341|4         |20-JAN-16|male  |\n",
            "+----+-------------+---------+--------+----------+---------+------+\n",
            "\n",
            "ser_det_table\n",
            "+----+----+----+----+------------+----------+--------------+---------+---+-------+------+----+-------+----+-----+\n",
            "|sid |cid |eid |spid|type_veh    |veh_no    |typ_ser       |ser_date |qty|sp_rate|sp_amt|sp_g|ser_amt|comm|total|\n",
            "+----+----+----+----+------------+----------+--------------+---------+---+-------+------+----+-------+----+-----+\n",
            "|6001|1001|3001|4001|TWO WHEELER |MH15CA3228|TUBE DAMAGED  |02-JAN-11|1.0|250    |250   |35  |50     |0   |335  |\n",
            "|6002|1002|3002|4002|TWO WHEELER |MH16U5713 |FULL SERVICING|04-MAR-11|1.0|400    |400   |52  |300    |50  |752  |\n",
            "|6003|1003|3004|4005|TWO WHEELER |MH12PQ1313|CLUTCH WIRE   |22-AUG-11|1.0|129    |129   |0   |10     |0   |139  |\n",
            "|6004|1002|3002|4002|TWO WHEELER |MH16U5713 |FULL SERVICING|05-MAY-11|1.0|400    |400   |52  |300    |50  |752  |\n",
            "|6005|1004|3001|4009|TWO WHEELER |MH14PA335 |COLOR         |21-OCT-11|2.5|340    |850   |119 |500    |150 |1469 |\n",
            "|6006|1006|3001|4009|TWO WHEELER |MH12WE334 |COLOR         |01-DEC-11|2.5|340    |850   |119 |500    |150 |1469 |\n",
            "|6007|1007|3001|4001|FOUR WHEELER|MH17BB1345|TUBE DAMAGED  |01-JAN-12|1.0|250    |250   |35  |150    |0   |435  |\n",
            "+----+----+----+----+------------+----------+--------------+---------+---+-------+------+----+-------+----+-----+\n",
            "\n",
            "employee_table\n",
            "+----+------------+--------+---------+--------+----+---------+---------+\n",
            "|eid |ename       |ejob    |eadd     |econtact|esal|edoj     |edol     |\n",
            "+----+------------+--------+---------+--------+----+---------+---------+\n",
            "|3001|STEVEN KING |PAINTER |NEW YORK |10367454|1200|01-JAN-08|NULL     |\n",
            "|3002|DAVID AUSTIN|FITTER  |MANAHTON |10367434|1100|19-AUG-10|NULL     |\n",
            "|3003|BRUCE ERENST|MECHANIC|NEW JERCY|10367264|2200|08-SEP-10|NULL     |\n",
            "|3004|LUIS POP    |MECHANIC|NEW JERCY|10367264|1700|19-OCT-19|06-SEP-10|\n",
            "|3005|SHERI GOMES |FITTER  |PARIS    |10327264|1000|19-OCT-09|01-AUG-10|\n",
            "|3000|JAMES PHILIP|FITTER  |PARIS    |10322264|NULL|01-JAN-08|NULL     |\n",
            "+----+------------+--------+---------+--------+----+---------+---------+\n",
            "\n",
            "sparepart_table\n",
            "+----+------------------------+------+------+\n",
            "|spid|spname                  |sprate|spunit|\n",
            "+----+------------------------+------+------+\n",
            "|4001|TWO WHEELER TUBE        |250   |NOS   |\n",
            "|4002|TWO WHEELER ENGINE OIL  |400   |LTRS  |\n",
            "|4003|FOUR WHEELER ENGINE OIL |5000  |LTRS  |\n",
            "|4004|TWO WHEELER CARBORATOR  |680   |NOS   |\n",
            "|4005|TWO WHEELER CLUTCH WIRE |129   |MTRS  |\n",
            "|4006|TWO WHEELER TAIIL LIGHT |100   |NOS   |\n",
            "|4007|TWO WHEELER INDICATORS  |150   |NOS   |\n",
            "|4008|FOUR WHEELER GASKIT     |1340  |NOS   |\n",
            "|4009|WHITE COLOUR            |340   |LTRS  |\n",
            "|4010|BLACK COLOUR            |240   |LTRS  |\n",
            "|4011|TWO WHEELER SIDE MIRROR |250   |NOS   |\n",
            "|4012|FOUR WHEELER SIDE MIRROR|450   |NOS   |\n",
            "|4013|TWO WHEELER SHOCKUP     |1320  |PAIR  |\n",
            "|4014|FOUR WHEELER BUMPER     |6000  |NOS   |\n",
            "|4015|FOUR WHEELER FRONT GLASS|7000  |PCS   |\n",
            "+----+------------------------+------+------+\n",
            "\n",
            "purchase_table\n",
            "+----+----+----+----+------+-------+---------+---------+--------+-------+\n",
            "|pid |vid |spid|pqty|sprate|spgst  |pdate    |transcost|total   |rcv_eid|\n",
            "+----+----+----+----+------+-------+---------+---------+--------+-------+\n",
            "|5001|2001|4001|10  |250   |350.0  |01-JAN-11|1300     |4150.0  |3001   |\n",
            "|5002|2002|4002|4   |400   |288.0  |02-MAR-11|100      |1988.0  |3001   |\n",
            "|5003|2003|4004|8   |680   |761.6  |12-JUN-11|50       |6251.6  |3003   |\n",
            "|5004|2004|4005|10  |129   |154.8  |22-AUG-11|125      |1569.8  |3004   |\n",
            "|5005|2005|4006|20  |100   |300.0  |07-SEP-11|20       |2320.0  |3003   |\n",
            "|5006|2006|4007|30  |150   |630.0  |11-OCT-11|60       |5190.0  |3000   |\n",
            "|5007|2001|4003|20  |5000  |14000.0|07-SEP-11|1000     |115000.0|3000   |\n",
            "|5008|2006|4005|1   |129   |15.48  |12-OCT-11|50       |194.48  |3005   |\n",
            "|5009|2006|4005|1   |129   |15.48  |15-OCT-11|50       |194.48  |3005   |\n",
            "|5010|2006|4009|5   |340   |238.0  |20-OCT-11|0        |1938.0  |3005   |\n",
            "+----+----+----+----+------+-------+---------+---------+--------+-------+\n",
            "\n",
            "vendor_table\n",
            "+----+-------------+---------+--------+-----------+---------+\n",
            "|vid |vname        |vadd     |vcontact|vcreditdays|vdate    |\n",
            "+----+-------------+---------+--------+-----------+---------+\n",
            "|2001|KIRAN PATIL  |PUNE     |20535535|20         |20-JAN-10|\n",
            "|2002|PRAKASH JAIN |MUNBAI   |2063564 |10         |05-NOV-11|\n",
            "|2003|SWAPNIL THETE|NASHIK   |25355352|15         |18-MAR-10|\n",
            "|2004|AMOL SHENDE  |SATARA   |23674776|18         |07-APR-15|\n",
            "|2005|KARAN SINTRE |BULDHANA |256756  |30         |22-APR-09|\n",
            "|2006|RAM KULKARNI |OSMANABAD|20367454|21         |09-JUL-10|\n",
            "+----+-------------+---------+--------+-----------+---------+\n",
            "\n"
          ]
        }
      ]
    },
    {
      "cell_type": "code",
      "execution_count": 11,
      "metadata": {
        "id": "nGPqcxb9rdpn"
      },
      "outputs": [],
      "source": [
        "\n"
      ],
      "id": "nGPqcxb9rdpn"
    },
    {
      "cell_type": "code",
      "execution_count": 12,
      "metadata": {
        "id": "ZAy5vfw_rdpo"
      },
      "outputs": [],
      "source": [
        "# Q.1: List all the customers serviced.\n"
      ],
      "id": "ZAy5vfw_rdpo"
    },
    {
      "cell_type": "code",
      "execution_count": 13,
      "metadata": {
        "id": "8y8i_a9zrdpo"
      },
      "outputs": [],
      "source": [
        "# Q.2: Customers who are not serviced.\n"
      ],
      "id": "8y8i_a9zrdpo"
    },
    {
      "cell_type": "code",
      "execution_count": 14,
      "metadata": {
        "id": "Lqd1hGwurdpp"
      },
      "outputs": [],
      "source": [
        "# Q.3: Employees who have not received the commission.\n"
      ],
      "id": "Lqd1hGwurdpp"
    },
    {
      "cell_type": "code",
      "execution_count": 15,
      "metadata": {
        "id": "GbBJE8xhrdpp"
      },
      "outputs": [],
      "source": [
        "# Q.4: Name the employee who have maximum Commission.\n"
      ],
      "id": "GbBJE8xhrdpp"
    },
    {
      "cell_type": "code",
      "execution_count": 16,
      "metadata": {
        "id": "rJNOoGhUrdpp"
      },
      "outputs": [],
      "source": [
        "# Q.5: Show employee name and minimum commission amount received by an employee.\n"
      ],
      "id": "rJNOoGhUrdpp"
    },
    {
      "cell_type": "code",
      "execution_count": 17,
      "metadata": {
        "id": "hAJ4KDrwrdpp"
      },
      "outputs": [],
      "source": [
        "# Q.6: Display the Middle record from any table.\n"
      ],
      "id": "hAJ4KDrwrdpp"
    },
    {
      "cell_type": "code",
      "execution_count": 18,
      "metadata": {
        "id": "ooLflBIDrdpp"
      },
      "outputs": [],
      "source": [
        "# Q.7: Display last 4 records of any table.\n"
      ],
      "id": "ooLflBIDrdpp"
    },
    {
      "cell_type": "code",
      "execution_count": 19,
      "metadata": {
        "id": "uV1yKbqcrdpp"
      },
      "outputs": [],
      "source": [
        "# Q.8: Count the number of records without count function from any table.\n"
      ],
      "id": "uV1yKbqcrdpp"
    },
    {
      "cell_type": "code",
      "execution_count": 20,
      "metadata": {
        "id": "E7s9-YXcrdpp"
      },
      "outputs": [],
      "source": [
        "# Q.9: Delete duplicate records from \"Ser_det\" table on cid.\n"
      ],
      "id": "E7s9-YXcrdpp"
    },
    {
      "cell_type": "code",
      "execution_count": 21,
      "metadata": {
        "id": "op4cbQSUrdpp"
      },
      "outputs": [],
      "source": [
        "# Q.10: Show the name of Customer who have paid maximum amount.\n"
      ],
      "id": "op4cbQSUrdpp"
    },
    {
      "cell_type": "code",
      "execution_count": 22,
      "metadata": {
        "id": "emrHxrJNrdpp"
      },
      "outputs": [],
      "source": [
        "# Q.11: Display Employees who are not currently working.\n"
      ],
      "id": "emrHxrJNrdpp"
    },
    {
      "cell_type": "code",
      "execution_count": 23,
      "metadata": {
        "id": "XKfIsJ3Ordpp"
      },
      "outputs": [],
      "source": [
        "# Q.12: How many customers serviced their two wheelers.\n"
      ],
      "id": "XKfIsJ3Ordpp"
    },
    {
      "cell_type": "code",
      "execution_count": 24,
      "metadata": {
        "id": "9dENuyPBrdpp"
      },
      "outputs": [],
      "source": [
        "# Q.13: List the Purchased Items which are used for Customer Service with Unit of that Item.\n"
      ],
      "id": "9dENuyPBrdpp"
    },
    {
      "cell_type": "code",
      "execution_count": 25,
      "metadata": {
        "id": "FsVxR9-lrdpp"
      },
      "outputs": [],
      "source": [
        "# Q.14: Customers who have Colored their vehicles.\n"
      ],
      "id": "FsVxR9-lrdpp"
    },
    {
      "cell_type": "code",
      "execution_count": 26,
      "metadata": {
        "id": "ix00XF65rdpq"
      },
      "outputs": [],
      "source": [
        "# Q.15: Find the annual income of each employee inclusive of Commission.\n"
      ],
      "id": "ix00XF65rdpq"
    },
    {
      "cell_type": "code",
      "execution_count": 27,
      "metadata": {
        "id": "zRI70biXrdpq"
      },
      "outputs": [],
      "source": [
        "# Q.16: Vendor Names who provides the engine oil.\n"
      ],
      "id": "zRI70biXrdpq"
    },
    {
      "cell_type": "code",
      "execution_count": 28,
      "metadata": {
        "id": "lmn7lEmUrdpq"
      },
      "outputs": [],
      "source": [
        "# Q.17: Total Cost to purchase the Color and name the color purchased.\n"
      ],
      "id": "lmn7lEmUrdpq"
    },
    {
      "cell_type": "code",
      "execution_count": 29,
      "metadata": {
        "id": "m8CtJ3mcrdpq"
      },
      "outputs": [],
      "source": [
        "# Q.18: Purchased Items which are not used in \"Ser_det\".\n"
      ],
      "id": "m8CtJ3mcrdpq"
    },
    {
      "cell_type": "code",
      "execution_count": 30,
      "metadata": {
        "id": "TKv271O9rdpq"
      },
      "outputs": [],
      "source": [
        "# Q.19: Spare Parts Not Purchased but existing in Sparepart.\n"
      ],
      "id": "TKv271O9rdpq"
    },
    {
      "cell_type": "code",
      "execution_count": 31,
      "metadata": {
        "id": "32DtAlH6rdpq"
      },
      "outputs": [],
      "source": [
        "# Q.20: Calculate the Profit/Loss of the Firm.\n"
      ],
      "id": "32DtAlH6rdpq"
    },
    {
      "cell_type": "code",
      "execution_count": 32,
      "metadata": {
        "id": "8aqTxm42rdpq"
      },
      "outputs": [],
      "source": [
        "# Q.21: Specify the names of customers who have serviced their vehicles more than one time.\n"
      ],
      "id": "8aqTxm42rdpq"
    },
    {
      "cell_type": "code",
      "execution_count": 33,
      "metadata": {
        "id": "mN_30N9Mrdpq"
      },
      "outputs": [],
      "source": [
        "# Q.22: List the Items purchased from vendors locationwise.\n"
      ],
      "id": "mN_30N9Mrdpq"
    },
    {
      "cell_type": "code",
      "execution_count": 34,
      "metadata": {
        "id": "7g-vFhq8rdpq"
      },
      "outputs": [],
      "source": [
        "# Q.23: Display count of two wheeler and four wheeler from ser_details.\n"
      ],
      "id": "7g-vFhq8rdpq"
    },
    {
      "cell_type": "code",
      "execution_count": 35,
      "metadata": {
        "id": "xbFeC8Zurdpq"
      },
      "outputs": [],
      "source": [
        "# Q.24: Display name of customers who paid highest SPGST and for which item.\n"
      ],
      "id": "xbFeC8Zurdpq"
    },
    {
      "cell_type": "code",
      "execution_count": 36,
      "metadata": {
        "id": "O4w_VD8Nrdpq"
      },
      "outputs": [],
      "source": [
        "# Q.25: Display vendors name who have charged highest SPGST rate for which item.\n"
      ],
      "id": "O4w_VD8Nrdpq"
    },
    {
      "cell_type": "code",
      "execution_count": 37,
      "metadata": {
        "id": "D7It07Zordpq"
      },
      "outputs": [],
      "source": [
        "# Q.26: List name of item and employee name who have received item.\n"
      ],
      "id": "D7It07Zordpq"
    },
    {
      "cell_type": "code",
      "execution_count": 38,
      "metadata": {
        "id": "IKoL0xXwrdpq"
      },
      "outputs": [],
      "source": [
        "# Q.27: Display Customer Name, Vehicle Number, Item Used, Purchase Date, Vendor, and Location.\n"
      ],
      "id": "IKoL0xXwrdpq"
    },
    {
      "cell_type": "code",
      "execution_count": 39,
      "metadata": {
        "id": "JWa-JEvkrdpq"
      },
      "outputs": [],
      "source": [
        "# Q.28: Who belong this vehicle 'MH14PA335'? Display the customer name.\n"
      ],
      "id": "JWa-JEvkrdpq"
    },
    {
      "cell_type": "code",
      "execution_count": 40,
      "metadata": {
        "id": "2UBmNINirdpq"
      },
      "outputs": [],
      "source": [
        "# Q.29: Display the name of customer from New York and their vehicle service date.\n"
      ],
      "id": "2UBmNINirdpq"
    },
    {
      "cell_type": "code",
      "execution_count": 41,
      "metadata": {
        "id": "oO7WKakmrdpq"
      },
      "outputs": [],
      "source": [
        "# Q.30: From whom we have purchased items having maximum cost?\n"
      ],
      "id": "oO7WKakmrdpq"
    },
    {
      "cell_type": "code",
      "execution_count": 42,
      "metadata": {
        "id": "A66iBVS7rdpq"
      },
      "outputs": [],
      "source": [
        "# Q.31: Display employees who are not 'Mechanic' and have done services.\n"
      ],
      "id": "A66iBVS7rdpq"
    },
    {
      "cell_type": "code",
      "execution_count": 43,
      "metadata": {
        "id": "apI5Rtc1rdpq"
      },
      "outputs": [],
      "source": [
        "# Q.32: Display jobs with more than two employees.\n"
      ],
      "id": "apI5Rtc1rdpq"
    },
    {
      "cell_type": "code",
      "execution_count": 44,
      "metadata": {
        "id": "BUcspfGVrdpq"
      },
      "outputs": [],
      "source": [
        "# Q.33: Display details of employees who did a service and rank them by number of services.\n"
      ],
      "id": "BUcspfGVrdpq"
    },
    {
      "cell_type": "code",
      "execution_count": 45,
      "metadata": {
        "id": "Atp0tBrfrdpq"
      },
      "outputs": [],
      "source": [
        "# Q.34: Display painter/fitter employees who provided a service and total service count for each.\n"
      ],
      "id": "Atp0tBrfrdpq"
    },
    {
      "cell_type": "code",
      "execution_count": 46,
      "metadata": {
        "id": "qOSjo4h0rdpq"
      },
      "outputs": [],
      "source": [
        "# Q.35: Display employee salary and provide a Grade based on salary.\n"
      ],
      "id": "qOSjo4h0rdpq"
    },
    {
      "cell_type": "code",
      "execution_count": 47,
      "metadata": {
        "id": "n1b2J2OTrdpr"
      },
      "outputs": [],
      "source": [
        "# Q.36: Display the 4th record of emp table without using group by and rowid.\n"
      ],
      "id": "n1b2J2OTrdpr"
    },
    {
      "cell_type": "code",
      "execution_count": 48,
      "metadata": {
        "id": "-qpUB5U-rdpr"
      },
      "outputs": [],
      "source": [
        "# Q.37: Provide a commission 100 to employees who are not earning any commission.\n"
      ],
      "id": "-qpUB5U-rdpr"
    },
    {
      "cell_type": "code",
      "execution_count": 49,
      "metadata": {
        "id": "4omiMGaSrdpr"
      },
      "outputs": [],
      "source": [
        "# Q.38: Write a query that totals no. of services for each day and place the results in descending order.\n"
      ],
      "id": "4omiMGaSrdpr"
    },
    {
      "cell_type": "code",
      "execution_count": 50,
      "metadata": {
        "id": "eQRy7_CWrdpr"
      },
      "outputs": [],
      "source": [
        "# Q.39: Display the service details of those customer who belong from same city.\n"
      ],
      "id": "eQRy7_CWrdpr"
    },
    {
      "cell_type": "code",
      "execution_count": 51,
      "metadata": {
        "id": "OgkiNAy-rdpr"
      },
      "outputs": [],
      "source": [
        "# Q.40: Write a query join customers table to itself to find all pairs of customers serviced by a single employee.\n"
      ],
      "id": "OgkiNAy-rdpr"
    },
    {
      "cell_type": "code",
      "execution_count": 52,
      "metadata": {
        "id": "a5IYgBP1rdpr"
      },
      "outputs": [],
      "source": [
        "# Q.41: List each service number followed by name of the customer who made that service.\n"
      ],
      "id": "a5IYgBP1rdpr"
    },
    {
      "cell_type": "code",
      "execution_count": 53,
      "metadata": {
        "id": "7ATdiCPvrdpr"
      },
      "outputs": [],
      "source": [
        "# Q.42: Write a query to get details of employee and provide rating on basis of maximum services provide by employee. (A,B,C,D).\n"
      ],
      "id": "7ATdiCPvrdpr"
    },
    {
      "cell_type": "code",
      "execution_count": 54,
      "metadata": {
        "id": "LUZYzQkmrdpr"
      },
      "outputs": [],
      "source": [
        "# Q.43: Write a query to get maximum service amount of each customer with their customer details.\n"
      ],
      "id": "LUZYzQkmrdpr"
    },
    {
      "cell_type": "code",
      "execution_count": 55,
      "metadata": {
        "id": "dAh9AT0ordpr"
      },
      "outputs": [],
      "source": [
        "# Q.44: Get the details of customers with his total no of services.\n"
      ],
      "id": "dAh9AT0ordpr"
    },
    {
      "cell_type": "code",
      "execution_count": 56,
      "metadata": {
        "id": "wLgxWuTgrdpr"
      },
      "outputs": [],
      "source": [
        "# Q.45: From which location sparepart purchased with highest cost?\n"
      ],
      "id": "wLgxWuTgrdpr"
    },
    {
      "cell_type": "code",
      "execution_count": 57,
      "metadata": {
        "id": "P2PwTkj8rdpr"
      },
      "outputs": [],
      "source": [
        "# Q.46: Get the details of employee with their service details who has salary is null.\n"
      ],
      "id": "P2PwTkj8rdpr"
    },
    {
      "cell_type": "code",
      "execution_count": 58,
      "metadata": {
        "id": "S4kC3Gscrdpr"
      },
      "outputs": [],
      "source": [
        "# Q.47: Find the sum of purchase location wise.\n"
      ],
      "id": "S4kC3Gscrdpr"
    },
    {
      "cell_type": "code",
      "execution_count": 59,
      "metadata": {
        "id": "zR_YdxmYrdpr"
      },
      "outputs": [],
      "source": [
        "# Q.48: Write a query sum of purchase amount in word location wise?\n"
      ],
      "id": "zR_YdxmYrdpr"
    },
    {
      "cell_type": "code",
      "execution_count": 60,
      "metadata": {
        "id": "bDyIyY9prdpr"
      },
      "outputs": [],
      "source": [
        "# Q.49: Has the customer who has spent the largest amount money has been given highest rating.\n"
      ],
      "id": "bDyIyY9prdpr"
    },
    {
      "cell_type": "code",
      "execution_count": 61,
      "metadata": {
        "id": "GPIw9F6lrdpr"
      },
      "outputs": [],
      "source": [
        "# Q.50: Select the total amount in service for each customer for which the total is greater than the amount of the largest service amount in the table.\n"
      ],
      "id": "GPIw9F6lrdpr"
    },
    {
      "cell_type": "code",
      "execution_count": 62,
      "metadata": {
        "id": "K8RXm6H1rdpr"
      },
      "outputs": [],
      "source": [
        "# Q.51: List the customer name and sparepart name used for their vehicle and vehicle type.\n"
      ],
      "id": "K8RXm6H1rdpr"
    },
    {
      "cell_type": "code",
      "execution_count": 63,
      "metadata": {
        "id": "5h033cSsrdpr"
      },
      "outputs": [],
      "source": [
        "# Q.52: Write a query to get spname, ename, cname, quantity, rate, service amount for record exist in service table.\n"
      ],
      "id": "5h033cSsrdpr"
    },
    {
      "cell_type": "code",
      "execution_count": 64,
      "metadata": {
        "id": "9J8Ke7Whrdpr"
      },
      "outputs": [],
      "source": [
        "# Q.53: Specify the vehicles owners whose tube damaged.\n"
      ],
      "id": "9J8Ke7Whrdpr"
    },
    {
      "cell_type": "code",
      "execution_count": 65,
      "metadata": {
        "id": "N9ytrHfnrdpr"
      },
      "outputs": [],
      "source": [
        "# Q.54: Specify the details who have taken full service.\n"
      ],
      "id": "N9ytrHfnrdpr"
    },
    {
      "cell_type": "code",
      "execution_count": 66,
      "metadata": {
        "id": "2lulauEErdps"
      },
      "outputs": [],
      "source": [
        "# Q.55: Select the employees who have not worked yet and left the job.\n"
      ],
      "id": "2lulauEErdps"
    },
    {
      "cell_type": "code",
      "execution_count": 67,
      "metadata": {
        "id": "l7b4LjkWrdps"
      },
      "outputs": [],
      "source": [
        "# Q.56: Select employee who have worked first ever.\n"
      ],
      "id": "l7b4LjkWrdps"
    },
    {
      "cell_type": "code",
      "execution_count": 68,
      "metadata": {
        "id": "T1r8eDVjrdps"
      },
      "outputs": [],
      "source": [
        "# Q.57: Display all records falling in odd date.\n"
      ],
      "id": "T1r8eDVjrdps"
    },
    {
      "cell_type": "code",
      "execution_count": 69,
      "metadata": {
        "id": "b9UrJbmGrdps"
      },
      "outputs": [],
      "source": [
        "# Q.58: Display all records falling in even date.\n"
      ],
      "id": "b9UrJbmGrdps"
    },
    {
      "cell_type": "code",
      "execution_count": 70,
      "metadata": {
        "id": "MQMa2fuXrdps"
      },
      "outputs": [],
      "source": [
        "# Q.59: Display the vendors whose material is not yet used.\n"
      ],
      "id": "MQMa2fuXrdps"
    },
    {
      "cell_type": "code",
      "execution_count": 71,
      "metadata": {
        "id": "1LyD-k9Trdps"
      },
      "outputs": [],
      "source": [
        "# Q.60: Difference between purchase date and used date of spare part.\n"
      ],
      "id": "1LyD-k9Trdps"
    }
  ],
  "metadata": {
    "kernelspec": {
      "display_name": "Python 3",
      "language": "python",
      "name": "python3"
    },
    "language_info": {
      "name": "python",
      "version": "3.10"
    },
    "colab": {
      "provenance": []
    }
  },
  "nbformat": 4,
  "nbformat_minor": 5
}