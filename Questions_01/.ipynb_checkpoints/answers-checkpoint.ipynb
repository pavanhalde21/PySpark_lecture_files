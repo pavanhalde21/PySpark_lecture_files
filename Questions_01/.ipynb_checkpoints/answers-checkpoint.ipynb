{
 "cells": [
  {
   "cell_type": "code",
   "execution_count": 2,
   "id": "f4f3a278-e549-45ae-a1ff-02982609e975",
   "metadata": {},
   "outputs": [],
   "source": [
    "from pyspark.sql import SparkSession\n",
    "from pyspark.sql.functions import *\n",
    "from pyspark.sql.window import Window"
   ]
  },
  {
   "cell_type": "code",
   "execution_count": 3,
   "id": "b8a4e9f5-377c-46c5-b406-0cf1f82cc5d0",
   "metadata": {},
   "outputs": [],
   "source": [
    "spark = SparkSession.builder.master(\"local[*]\").appName(\"garage\").getOrCreate()\n",
    "\n",
    "customer = spark.read.csv(r\"customer.csv\", header=True, inferSchema=True)\n",
    "ser_det = spark.read.csv(r\"ser_det.csv\", header=True, inferSchema=True)\n",
    "employee = spark.read.csv(r\"employee.csv\", header=True, inferSchema=True)\n",
    "sparepart = spark.read.csv(r\"sparepart.csv\", header=True, inferSchema=True)\n",
    "purchase = spark.read.csv(r\"purchase.csv\", header=True, inferSchema=True)\n",
    "vendor = spark.read.csv(r\"vendors.csv\", header=True, inferSchema=True)"
   ]
  },
  {
   "cell_type": "code",
   "execution_count": 27,
   "id": "80808d58-0010-4c49-845e-d9636d1e2c38",
   "metadata": {},
   "outputs": [],
   "source": [
    "# customer.show(truncate=False)\n",
    "# ser_det.show(truncate=False)"
   ]
  },
  {
   "cell_type": "code",
   "execution_count": 24,
   "id": "21cfb6a0-413c-4564-8fd9-1ba0e1d07882",
   "metadata": {},
   "outputs": [
    {
     "name": "stdout",
     "output_type": "stream",
     "text": [
      "+------------+--------------+\n",
      "|cname       |typ_ser       |\n",
      "+------------+--------------+\n",
      "|cyona blake |TUBE DAMAGED  |\n",
      "|JOHN SMITH  |FULL SERVICING|\n",
      "|JORDEN WOOD |CLUTCH WIRE   |\n",
      "|JOHN SMITH  |FULL SERVICING|\n",
      "|CHRISTANA   |COLOR         |\n",
      "|KAMILA JOSEF|COLOR         |\n",
      "|ANDRU SYMON |TUBE DAMAGED  |\n",
      "+------------+--------------+\n",
      "\n"
     ]
    }
   ],
   "source": [
    "# \"Q.1  List all the customers serviced.\"\n",
    "\n",
    "serviced = customer.join(ser_det, customer['cid'] == ser_det['cid'], 'inner')\n",
    "serviced.select(customer.cname,ser_det.typ_ser).show(truncate=False) \n",
    "\n",
    "# customer.join(ser_det, 'cid').show()"
   ]
  },
  {
   "cell_type": "code",
   "execution_count": 25,
   "id": "f353d6a4-9958-46f3-8ee2-7a460be08d78",
   "metadata": {},
   "outputs": [
    {
     "name": "stdout",
     "output_type": "stream",
     "text": [
      "+----+-------------+--------+--------+----------+---------+------+\n",
      "| cid|        cname|    cadd| contact|creditdays|     date|gender|\n",
      "+----+-------------+--------+--------+----------+---------+------+\n",
      "|1005|     TOM HILL|  LONDON| 1239284|        10|25-JUN-15|  male|\n",
      "|1008|SANJU SAMSUNG|NEW YORK|12346341|         4|20-JAN-16|  male|\n",
      "+----+-------------+--------+--------+----------+---------+------+\n",
      "\n"
     ]
    }
   ],
   "source": [
    "# \"Q.2  Customers who are not serviced.\"\n",
    "\n",
    "not_serviced = customer.join(ser_det, customer['cid'] == ser_det['cid'], 'leftanti').show()\n",
    "\n",
    "# customer.join(ser_det, 'cid', 'anti').show()"
   ]
  },
  {
   "cell_type": "code",
   "execution_count": 47,
   "id": "e3fa2012-c49e-4fee-91e7-b41a02bffaa6",
   "metadata": {},
   "outputs": [
    {
     "name": "stdout",
     "output_type": "stream",
     "text": [
      "+-----------+----+\n",
      "|      ename|comm|\n",
      "+-----------+----+\n",
      "|STEVEN KING|   0|\n",
      "|STEVEN KING|   0|\n",
      "|   LUIS POP|   0|\n",
      "+-----------+----+\n",
      "\n"
     ]
    }
   ],
   "source": [
    "## \"Q.3  Employees who have not received the commission.\" \n",
    "\n",
    "ser_det.join(employee,'eid').where(col('comm')==0).select(employee.ename,ser_det.comm).show()\n",
    "# try if you can eliminate the dublicate values"
   ]
  },
  {
   "cell_type": "code",
   "execution_count": 45,
   "id": "42bd5128-fa1b-4506-a449-71e78b63ffe3",
   "metadata": {},
   "outputs": [
    {
     "name": "stdout",
     "output_type": "stream",
     "text": [
      "+-----------+--------+\n",
      "|      ename|max_comm|\n",
      "+-----------+--------+\n",
      "|STEVEN KING|     150|\n",
      "+-----------+--------+\n",
      "only showing top 1 row\n",
      "\n"
     ]
    }
   ],
   "source": [
    "# \"Q.4  Name the employee who have maximum Commission.\"\n",
    "\n",
    "comm_2 = employee.join(ser_det, employee['eid'] == ser_det['eid'], 'inner')\n",
    "max_comm = comm_2.groupBy(\"ename\").agg(max('comm').alias(\"max_comm\")).orderBy(desc(\"max_comm\")).show(1)\n",
    "\n",
    "# employee.join(ser_det,'eid').groupBy(\"ename\").agg(max('comm').alias(\"max_comm\")).orderBy(desc(\"max_comm\")).show(1)"
   ]
  },
  {
   "cell_type": "code",
   "execution_count": 46,
   "id": "d2c11c7a-59be-4294-a3e6-319fc7d06e10",
   "metadata": {},
   "outputs": [
    {
     "name": "stdout",
     "output_type": "stream",
     "text": [
      "+------------+---------+\n",
      "|       ename|min(comm)|\n",
      "+------------+---------+\n",
      "|    LUIS POP|        0|\n",
      "| STEVEN KING|        0|\n",
      "|DAVID AUSTIN|       50|\n",
      "+------------+---------+\n",
      "\n"
     ]
    }
   ],
   "source": [
    "# \"Q.5  Show employee name and minimum commission amount received by an employee.\"\n",
    "\n",
    "comm_3 = ser_det.join(employee, ser_det['eid'] == employee['eid'], 'inner')\n",
    "min_comm = comm_3.groupBy(\"ename\").agg(min('comm')).show()\n",
    "\n",
    "# ser_det.join(employee,'eid').groupBy(\"ename\").agg(min('comm')).show()"
   ]
  },
  {
   "cell_type": "code",
   "execution_count": 23,
   "id": "a0d7db80-4299-4faf-9471-a2e2f258e70c",
   "metadata": {},
   "outputs": [
    {
     "name": "stdout",
     "output_type": "stream",
     "text": [
      "+----+---------+---------+-------+----------+---------+------+----------+\n",
      "| cid|    cname|     cadd|contact|creditdays|     date|gender|row_number|\n",
      "+----+---------+---------+-------+----------+---------+------+----------+\n",
      "|1004|CHRISTANA|MANHATTON|1125684|        31|23-APR-13|female|         4|\n",
      "+----+---------+---------+-------+----------+---------+------+----------+\n",
      "\n"
     ]
    }
   ],
   "source": [
    "# \"Q.6  Display the Middle record from any table.\"      \n",
    "\n",
    "window_obj = Window.orderBy(\"cid\")\n",
    "count_01 = customer.count()\n",
    "middle_rec = customer.withColumn('row_number', row_number().over(window_obj))\n",
    "middle_pos = (count_01 + 1) // 2\n",
    "m = middle_rec.filter(col(\"row_number\") == middle_pos).show() # filter can be used instead of where"
   ]
  },
  {
   "cell_type": "code",
   "execution_count": 28,
   "id": "cf42b3b0-03cc-4745-a37b-e6cb91cfa528",
   "metadata": {},
   "outputs": [
    {
     "name": "stdout",
     "output_type": "stream",
     "text": [
      "+----+-------------+--------+--------+----------+---------+------+\n",
      "|cid |cname        |cadd    |contact |creditdays|date     |gender|\n",
      "+----+-------------+--------+--------+----------+---------+------+\n",
      "|1008|SANJU SAMSUNG|NEW YORK|12346341|4         |20-JAN-16|male  |\n",
      "|1007|ANDRU SYMON  |TEXAS   |125654  |15        |01-APR-16|male  |\n",
      "|1006|KAMILA JOSEF |PRAISE  |124568  |9         |28-JUL-11|female|\n",
      "|1005|TOM HILL     |LONDON  |1239284 |10        |25-JUN-15|male  |\n",
      "+----+-------------+--------+--------+----------+---------+------+\n",
      "\n"
     ]
    }
   ],
   "source": [
    "# \"Q.7  Display last 4 records of any table.\"\n",
    "\n",
    "last_4 = customer.orderBy(col(\"cid\").desc()).limit(4).show(truncate=False)"
   ]
  },
  {
   "cell_type": "code",
   "execution_count": 29,
   "id": "56b415ce-cf49-4790-8854-5a4c1e6a5c2d",
   "metadata": {},
   "outputs": [
    {
     "name": "stdout",
     "output_type": "stream",
     "text": [
      "+---------------+\n",
      "|max(row_number)|\n",
      "+---------------+\n",
      "|              8|\n",
      "+---------------+\n",
      "\n"
     ]
    }
   ],
   "source": [
    "# \"Q.8  Count the number of records without count function from any table.\"\n",
    "\n",
    "win_obj_01 = Window.orderBy(\"cid\")\n",
    "mid_rec_01 = customer.withColumn('row_number', row_number().over(win_obj_01))\n",
    "mid_rec_01.select(max('row_number')).show()\n"
   ]
  },
  {
   "cell_type": "code",
   "execution_count": 36,
   "id": "0eefe7b7-adb9-4bdc-8807-d9c4b6d24948",
   "metadata": {},
   "outputs": [
    {
     "name": "stdout",
     "output_type": "stream",
     "text": [
      "+----+----+----+----+------------+----------+--------------+---------+---+-------+------+----+-------+----+-----+\n",
      "| sid| cid| eid|spid|    type_veh|    veh_no|       typ_ser| ser_date|qty|sp_rate|sp_amt|sp_g|ser_amt|comm|total|\n",
      "+----+----+----+----+------------+----------+--------------+---------+---+-------+------+----+-------+----+-----+\n",
      "|6001|1001|3001|4001| TWO WHEELER|MH15CA3228|  TUBE DAMAGED|02-JAN-11|1.0|    250|   250|  35|     50|   0|  335|\n",
      "|6002|1002|3002|4002| TWO WHEELER| MH16U5713|FULL SERVICING|04-MAR-11|1.0|    400|   400|  52|    300|  50|  752|\n",
      "|6003|1003|3004|4005| TWO WHEELER|MH12PQ1313|   CLUTCH WIRE|22-AUG-11|1.0|    129|   129|   0|     10|   0|  139|\n",
      "|6005|1004|3001|4009| TWO WHEELER| MH14PA335|         COLOR|21-OCT-11|2.5|    340|   850| 119|    500| 150| 1469|\n",
      "|6006|1006|3001|4009| TWO WHEELER| MH12WE334|         COLOR|01-DEC-11|2.5|    340|   850| 119|    500| 150| 1469|\n",
      "|6007|1007|3001|4001|FOUR WHEELER|MH17BB1345|  TUBE DAMAGED|01-JAN-12|1.0|    250|   250|  35|    150|   0|  435|\n",
      "+----+----+----+----+------------+----------+--------------+---------+---+-------+------+----+-------+----+-----+\n",
      "\n"
     ]
    }
   ],
   "source": [
    "# \"Q.9  Delete duplicate records from 'Ser_det' table on cid.(note Please rollback after execution).\"\n",
    "\n",
    "ser_det.drop_duplicates(['cid']).show()"
   ]
  },
  {
   "cell_type": "code",
   "execution_count": 30,
   "id": "8b94c6a3-dd7e-46f9-9311-f77338f23898",
   "metadata": {},
   "outputs": [
    {
     "name": "stdout",
     "output_type": "stream",
     "text": [
      "+----------+----------+\n",
      "|     cname|sum(total)|\n",
      "+----------+----------+\n",
      "|JOHN SMITH|      1504|\n",
      "+----------+----------+\n",
      "only showing top 1 row\n",
      "\n"
     ]
    }
   ],
   "source": [
    "# \"Q.10 Show the name of Customer who have paid maximum amount.\"\n",
    "\n",
    "cust1 = ser_det.join(customer, ser_det[\"cid\"] == customer[\"cid\"], 'inner')\n",
    "max_total = cust1.groupBy(\"cname\").agg(sum(\"total\")).show(1)\n",
    "\n",
    "# ser_det.join(customer, \"cid\").groupBy(\"cname\").agg(sum(\"total\")).show(1)"
   ]
  },
  {
   "cell_type": "code",
   "execution_count": 31,
   "id": "bdbc0c28-59a5-4b5d-8a0d-436b93456f24",
   "metadata": {},
   "outputs": [
    {
     "name": "stdout",
     "output_type": "stream",
     "text": [
      "+----+------------+--------+---------+--------+----+---------+---------+\n",
      "| eid|       ename|    ejob|     eadd|econtact|esal|     edoj|     edol|\n",
      "+----+------------+--------+---------+--------+----+---------+---------+\n",
      "|3003|BRUCE ERENST|MECHANIC|NEW JERCY|10367264|2200|08-SEP-10|   null\\t|\n",
      "|3005| SHERI GOMES|  FITTER|    PARIS|10327264|1000|19-OCT-09|01-AUG-10|\n",
      "|3000|JAMES PHILIP|  FITTER|    PARIS|10322264|null|01-JAN-08|     null|\n",
      "+----+------------+--------+---------+--------+----+---------+---------+\n",
      "\n"
     ]
    }
   ],
   "source": [
    "# \"Q.11 Display Employees who are not currently working.\"\n",
    "\n",
    "not_working = employee.join(ser_det, employee['eid'] == ser_det['eid'], 'leftanti').show()\n",
    "# not_working.show()"
   ]
  },
  {
   "cell_type": "code",
   "execution_count": 44,
   "id": "c2e94914-3f28-4d57-bf3c-8b2cf071d1a0",
   "metadata": {},
   "outputs": [
    {
     "name": "stdout",
     "output_type": "stream",
     "text": [
      "+-----------+----------+\n",
      "|   type_veh|count(cid)|\n",
      "+-----------+----------+\n",
      "|TWO WHEELER|         6|\n",
      "+-----------+----------+\n",
      "\n"
     ]
    }
   ],
   "source": [
    "## \"Q.12 How many customers serviced their two wheelers.\"\n",
    "\n",
    "cstw = ser_det.join(customer,'cid').groupBy(col('type_veh')).agg(count(col('cid'))).where(col('type_veh')=='TWO WHEELER').show()\n",
    "# check if you can eliminate the customer that are counted twice"
   ]
  },
  {
   "cell_type": "code",
   "execution_count": 48,
   "id": "30bce25a-1f20-4dcf-8c9c-b9ae06865c6f",
   "metadata": {},
   "outputs": [
    {
     "name": "stdout",
     "output_type": "stream",
     "text": [
      "+-----------------------+-----+\n",
      "|spname                 |count|\n",
      "+-----------------------+-----+\n",
      "|TWO WHEELER CLUTCH WIRE|1    |\n",
      "|WHITE COLOUR           |2    |\n",
      "|TWO WHEELER ENGINE OIL |2    |\n",
      "|TWO WHEELER TUBE       |2    |\n",
      "+-----------------------+-----+\n",
      "\n"
     ]
    }
   ],
   "source": [
    "# \"Q.13 List the Purchased Items which are used for Customer Service with Unit of that Item.\"\n",
    "\n",
    "ser_det.join(sparepart,\"spid\").groupBy(\"spname\").count().show(truncate=False)"
   ]
  },
  {
   "cell_type": "code",
   "execution_count": 50,
   "id": "a43e783b-9abc-40f1-822c-740eda7f8a71",
   "metadata": {},
   "outputs": [
    {
     "name": "stdout",
     "output_type": "stream",
     "text": [
      "+------------+-------+\n",
      "|       cname|typ_ser|\n",
      "+------------+-------+\n",
      "|   CHRISTANA|  COLOR|\n",
      "|KAMILA JOSEF|  COLOR|\n",
      "+------------+-------+\n",
      "\n"
     ]
    }
   ],
   "source": [
    "# \"Q.14 Customers who have Colored their vehicles.\"\n",
    "\n",
    "ser_det.join(customer, 'cid').select(customer.cname,ser_det.typ_ser).where(col(\"typ_ser\") == 'COLOR').show()"
   ]
  },
  {
   "cell_type": "code",
   "execution_count": 58,
   "id": "0a5ddfe6-5533-40f5-ba78-d6627310ae60",
   "metadata": {},
   "outputs": [
    {
     "name": "stdout",
     "output_type": "stream",
     "text": [
      "+------------+-------------+\n",
      "|       ename|annual_income|\n",
      "+------------+-------------+\n",
      "| STEVEN KING|      14400.0|\n",
      "| STEVEN KING|      16200.0|\n",
      "| STEVEN KING|      16200.0|\n",
      "| STEVEN KING|      14400.0|\n",
      "|DAVID AUSTIN|       1920.0|\n",
      "|DAVID AUSTIN|       1920.0|\n",
      "|    LUIS POP|      20400.0|\n",
      "+------------+-------------+\n",
      "\n"
     ]
    }
   ],
   "source": [
    "## \"Q.15 Find the annual income of each employee inclusive of Commission\"\n",
    "\n",
    "anual_inc = ser_det.join(employee, ser_det['eid'] == employee['eid'], 'inner')\n",
    "new = anual_inc.withColumn('annual_income', (employee.esal * 12) + (ser_det.comm * 12))\n",
    "df = new.select(new.ename, new.annual_income).show()\n",
    "# try if you can sum the commission a particular employee"
   ]
  },
  {
   "cell_type": "code",
   "execution_count": 54,
   "id": "ff5ff869-b63c-476e-921a-c7b5ceb1c8dc",
   "metadata": {},
   "outputs": [
    {
     "name": "stdout",
     "output_type": "stream",
     "text": [
      "+-----------+\n",
      "|      vname|\n",
      "+-----------+\n",
      "|KIRAN PATIL|\n",
      "+-----------+\n",
      "\n"
     ]
    }
   ],
   "source": [
    "# \"Q.16 Vendor Names who provides the engine oil.\"\n",
    "\n",
    "provider_01 = vendor.join(purchase,'vid').where(col('spid') == 4002 | 4003)\n",
    "provider_01.select(provider_01.vname).show()\n",
    "\n",
    "# vendor.join(purchase, 'vid').where(col('spid') == 4002 | 4003).select('vname').show()\n",
    "\n",
    "# vendor.join(purchase, 'vid').where(col('spid') == 4002 | 4003).select(vendor.vname).show()"
   ]
  },
  {
   "cell_type": "code",
   "execution_count": 55,
   "id": "80a7b50b-b567-47ff-97ad-86ef29d6b42b",
   "metadata": {},
   "outputs": [
    {
     "name": "stdout",
     "output_type": "stream",
     "text": [
      "+------------+------+\n",
      "|      spname| total|\n",
      "+------------+------+\n",
      "|WHITE COLOUR|2938.0|\n",
      "+------------+------+\n",
      "\n"
     ]
    }
   ],
   "source": [
    "# \"Q.17 Total Cost to purchase the Color and name the color purchased.\"\n",
    "\n",
    "sparepart.join(purchase, 'spid').filter((purchase.spid == 4009) | (purchase.spid == 4010) ).select(sparepart.spname,purchase.total).show()"
   ]
  },
  {
   "cell_type": "code",
   "execution_count": 56,
   "id": "333b9964-1783-459d-b925-c2fb885a876c",
   "metadata": {},
   "outputs": [
    {
     "name": "stdout",
     "output_type": "stream",
     "text": [
      "+----+----+----+----+------+-------+---------+---------+--------+-------+\n",
      "|spid| pid| vid|pqty|sprate|  spgst|    pdate|transcost|   total|rcv_eid|\n",
      "+----+----+----+----+------+-------+---------+---------+--------+-------+\n",
      "|4004|5003|2003|   8|   680|  761.6|12-JUN-11|       50|  6251.6|   3003|\n",
      "|4006|5005|2005|  20|   100|  300.0|07-SEP-11|       20|  2320.0|   3003|\n",
      "|4007|5006|2006|  30|   150|  630.0|11-OCT-11|       60|  5190.0|   3000|\n",
      "|4003|5007|2001|  20|  5000|14000.0|07-SEP-11|     1000|115000.0|   3000|\n",
      "+----+----+----+----+------+-------+---------+---------+--------+-------+\n",
      "\n"
     ]
    }
   ],
   "source": [
    "# \"Q.18 Purchased Items which are not used in 'Ser_det'.\"\n",
    "\n",
    "not_used = purchase.join(ser_det, 'spid', 'anti').show()"
   ]
  },
  {
   "cell_type": "code",
   "execution_count": 57,
   "id": "dc541809-24d1-4a8b-aef8-d6d8c3896d8a",
   "metadata": {},
   "outputs": [
    {
     "name": "stdout",
     "output_type": "stream",
     "text": [
      "+----+------------------------+------+------+\n",
      "|spid|spname                  |sprate|spunit|\n",
      "+----+------------------------+------+------+\n",
      "|4008|FOUR WHEELER GASKIT     |1340  |NOS   |\n",
      "|4010|BLACK COLOUR            |240   |LTRS  |\n",
      "|4011|TWO WHEELER SIDE MIRROR |250   |NOS   |\n",
      "|4012|FOUR WHEELER SIDE MIRROR|450   |NOS   |\n",
      "|4013|TWO WHEELER SHOCKUP     |1320  |PAIR  |\n",
      "|4014|FOUR WHEELER BUMPER     |6000  |NOS   |\n",
      "|4015|FOUR WHEELER FRONT GLASS|7000  |PCS   |\n",
      "+----+------------------------+------+------+\n",
      "\n"
     ]
    }
   ],
   "source": [
    "# \"Q.19 Spare Parts Not Purchased but existing in Spare part\"\n",
    "\n",
    "not_purchased = sparepart.join(purchase, 'spid', 'anti').show(truncate=False)"
   ]
  },
  {
   "cell_type": "code",
   "execution_count": 98,
   "id": "38d724ea-de91-4ae2-bce7-7f548b22c957",
   "metadata": {},
   "outputs": [
    {
     "name": "stdout",
     "output_type": "stream",
     "text": [
      "+------------+--------------+\n",
      "|       ename|profit_or_loss|\n",
      "+------------+--------------+\n",
      "|    LUIS POP|        1561.0|\n",
      "| STEVEN KING|        1092.0|\n",
      "|DAVID AUSTIN|       -1284.0|\n",
      "+------------+--------------+\n",
      "\n"
     ]
    }
   ],
   "source": [
    "## \"Q.20 Calculate the Profit/Loss of the Firm. Consider one month salary of each employee for Calculation.\"\n",
    "\n",
    "pl = ser_det.join(employee, 'eid').groupBy('ename').agg(sum(col('esal') - col('total')).alias(\"profit_or_loss\")).show()\n",
    "# try to show the total sum of profit or loss"
   ]
  },
  {
   "cell_type": "code",
   "execution_count": 48,
   "id": "6de0672f-ab1e-4c51-bec1-554e5006a7d1",
   "metadata": {
    "collapsed": true,
    "jupyter": {
     "outputs_hidden": true
    }
   },
   "outputs": [
    {
     "name": "stdout",
     "output_type": "stream",
     "text": [
      "+----------+-----------+\n",
      "|     cname|serve_count|\n",
      "+----------+-----------+\n",
      "|JOHN SMITH|          2|\n",
      "+----------+-----------+\n",
      "\n"
     ]
    }
   ],
   "source": [
    "# \"Q.21 Specify the names of customers who have serviced their vehicles more than one time.\"\n",
    "\n",
    "count_cust = customer.join(ser_det, 'cid').groupBy(customer.cname, customer.cid).agg(count(ser_det.cid).alias(\"serve_count\"))\n",
    "service_count = count_cust.select(count_cust.cname, count_cust.serve_count).where(count_cust.serve_count > 1).show()\n",
    "# count_cust = customer.join(ser_det, 'cid').groupBy(customer.cname, customer.cid).agg(count(ser_det.cid).alias(\"serve_count\"))\n",
    "# service_count = count_cust.select(customer.cname, count_cust.serve_count).where(count_cust.serve_count > 1).show()"
   ]
  },
  {
   "cell_type": "code",
   "execution_count": 64,
   "id": "705b3697-484b-465a-b1bb-73aaa4227dcd",
   "metadata": {},
   "outputs": [
    {
     "name": "stdout",
     "output_type": "stream",
     "text": [
      "+---------+-----------------------+\n",
      "|vadd     |spname                 |\n",
      "+---------+-----------------------+\n",
      "|SATARA   |TWO WHEELER CLUTCH WIRE|\n",
      "|PUNE     |TWO WHEELER TUBE       |\n",
      "|PUNE     |FOUR WHEELER ENGINE OIL|\n",
      "|OSMANABAD|TWO WHEELER CLUTCH WIRE|\n",
      "|OSMANABAD|WHITE COLOUR           |\n",
      "|OSMANABAD|TWO WHEELER INDICATORS |\n",
      "|OSMANABAD|TWO WHEELER CLUTCH WIRE|\n",
      "|NASHIK   |TWO WHEELER CARBORATOR |\n",
      "|MUNBAI   |TWO WHEELER ENGINE OIL |\n",
      "|BULDHANA |TWO WHEELER TAIIL LIGHT|\n",
      "+---------+-----------------------+\n",
      "\n"
     ]
    }
   ],
   "source": [
    "# \"Q.22 List the Items purchased from vendors locationwise.\"\n",
    "\n",
    "items_01 = purchase.join(vendor, purchase[\"vid\"] == vendor[\"vid\"]).join(sparepart,sparepart[\"spid\"] == purchase[\"spid\"])\n",
    "items_02 = items_01.orderBy(desc(\"vadd\")).select(vendor.vadd, sparepart.spname).show(truncate=False)\n",
    "\n",
    "# purchase.join(vendor,\"vid\").join(sparepart,\"spid\").orderBy(desc(\"vadd\")).select(vendor.vadd,sparepart.spname).show(truncate=False)"
   ]
  },
  {
   "cell_type": "code",
   "execution_count": 65,
   "id": "23a8606a-723c-436a-b017-eaf96e8ebc4f",
   "metadata": {},
   "outputs": [
    {
     "name": "stdout",
     "output_type": "stream",
     "text": [
      "+------------+---------------+\n",
      "|    type_veh|count(type_veh)|\n",
      "+------------+---------------+\n",
      "| TWO WHEELER|              6|\n",
      "|FOUR WHEELER|              1|\n",
      "+------------+---------------+\n",
      "\n"
     ]
    }
   ],
   "source": [
    "# \"Q.23 Display count of two wheeler and four wheeler from ser_det table\"\n",
    "\n",
    "ser_det.groupBy(ser_det.type_veh).agg(count(ser_det.type_veh)).show()"
   ]
  },
  {
   "cell_type": "code",
   "execution_count": 67,
   "id": "03413dbe-633d-42a4-b79a-e2285d11ab6f",
   "metadata": {},
   "outputs": [
    {
     "name": "stdout",
     "output_type": "stream",
     "text": [
      "+----+-----------+----+-------+----------+---------+------+----+----+----+-----------+----------+-----------+---------+---+-------+------+----+-------+----+-----+\n",
      "| cid|      cname|cadd|contact|creditdays|     date|gender| sid| eid|spid|   type_veh|    veh_no|    typ_ser| ser_date|qty|sp_rate|sp_amt|sp_g|ser_amt|comm|total|\n",
      "+----+-----------+----+-------+----------+---------+------+----+----+----+-----------+----------+-----------+---------+---+-------+------+----+-------+----+-----+\n",
      "|1003|JORDEN WOOD|PRAG|1805184|        20|22-MAR-11|  male|6003|3004|4005|TWO WHEELER|MH12PQ1313|CLUTCH WIRE|22-AUG-11|1.0|    129|   129|   0|     10|   0|  139|\n",
      "+----+-----------+----+-------+----------+---------+------+----+----+----+-----------+----------+-----------+---------+---+-------+------+----+-------+----+-----+\n",
      "\n"
     ]
    }
   ],
   "source": [
    "# \"Q24 Display name of customers who paid highest SPGST and for which item \"\n",
    "\n",
    "customer.join(ser_det,'cid').orderBy(col('sp_g')).limit(1).show()"
   ]
  },
  {
   "cell_type": "code",
   "execution_count": 70,
   "id": "057a142a-2da6-43f6-a8c8-045f0c6680f6",
   "metadata": {},
   "outputs": [
    {
     "name": "stdout",
     "output_type": "stream",
     "text": [
      "+------------+-----------------------+\n",
      "|vname       |spname                 |\n",
      "+------------+-----------------------+\n",
      "|RAM KULKARNI|TWO WHEELER CLUTCH WIRE|\n",
      "+------------+-----------------------+\n",
      "\n"
     ]
    }
   ],
   "source": [
    "# \"Q25 Display vendors name who have charged highest SPGST rate for which item\"\n",
    "\n",
    "ser_det.join(customer, 'cid').join(purchase, \"spid\").join(vendor,\"vid\").join(sparepart,'spid').orderBy(col('sp_g')).limit(1).select(vendor.vname,sparepart.spname).show(truncate=False)"
   ]
  },
  {
   "cell_type": "code",
   "execution_count": 71,
   "id": "5793e0b7-8461-4b57-b341-79881a30a249",
   "metadata": {},
   "outputs": [
    {
     "name": "stdout",
     "output_type": "stream",
     "text": [
      "+-----------------------+------------+\n",
      "|spname                 |ename       |\n",
      "+-----------------------+------------+\n",
      "|TWO WHEELER TUBE       |STEVEN KING |\n",
      "|WHITE COLOUR           |STEVEN KING |\n",
      "|WHITE COLOUR           |STEVEN KING |\n",
      "|TWO WHEELER TUBE       |STEVEN KING |\n",
      "|TWO WHEELER ENGINE OIL |DAVID AUSTIN|\n",
      "|TWO WHEELER ENGINE OIL |DAVID AUSTIN|\n",
      "|TWO WHEELER CLUTCH WIRE|LUIS POP    |\n",
      "+-----------------------+------------+\n",
      "\n"
     ]
    }
   ],
   "source": [
    "# \"Q26 list name of item and employee name who have received item \"\n",
    "\n",
    "ser_det.join(employee, \"eid\").join(sparepart, \"spid\").select(sparepart.spname,employee.ename).show(truncate=False)"
   ]
  },
  {
   "cell_type": "code",
   "execution_count": 72,
   "id": "b82bedc0-e979-47d6-81a2-3306e4f26e57",
   "metadata": {},
   "outputs": [
    {
     "name": "stdout",
     "output_type": "stream",
     "text": [
      "+------------+----------+-----------------------+----+---------+---------+\n",
      "|cname       |veh_no    |spname                 |pqty|pdate    |vadd     |\n",
      "+------------+----------+-----------------------+----+---------+---------+\n",
      "|cyona blake |MH15CA3228|TWO WHEELER TUBE       |10  |01-JAN-11|PUNE     |\n",
      "|JOHN SMITH  |MH16U5713 |TWO WHEELER ENGINE OIL |4   |02-MAR-11|MUNBAI   |\n",
      "|JORDEN WOOD |MH12PQ1313|TWO WHEELER CLUTCH WIRE|1   |15-OCT-11|OSMANABAD|\n",
      "|JORDEN WOOD |MH12PQ1313|TWO WHEELER CLUTCH WIRE|1   |12-OCT-11|OSMANABAD|\n",
      "|JORDEN WOOD |MH12PQ1313|TWO WHEELER CLUTCH WIRE|10  |22-AUG-11|SATARA   |\n",
      "|JOHN SMITH  |MH16U5713 |TWO WHEELER ENGINE OIL |4   |02-MAR-11|MUNBAI   |\n",
      "|CHRISTANA   |MH14PA335 |WHITE COLOUR           |5   |20-OCT-11|OSMANABAD|\n",
      "|KAMILA JOSEF|MH12WE334 |WHITE COLOUR           |5   |20-OCT-11|OSMANABAD|\n",
      "|ANDRU SYMON |MH17BB1345|TWO WHEELER TUBE       |10  |01-JAN-11|PUNE     |\n",
      "+------------+----------+-----------------------+----+---------+---------+\n",
      "\n"
     ]
    }
   ],
   "source": [
    "# Q27 Display the Name and Vehicle Number of Customer who serviced his vehicle, And Name the Item used for Service, \n",
    "    # And specify the purchase date of that Item with his vendor and Item Unit and Location, \n",
    "    \n",
    "dv = ser_det.join(customer,'cid').join(sparepart,'spid').join(purchase,'spid').join(vendor,'vid')\n",
    "dv.select(customer.cname, ser_det.veh_no,sparepart.spname, purchase.pqty,purchase.pdate,vendor.vadd).show(truncate=False)"
   ]
  },
  {
   "cell_type": "code",
   "execution_count": 73,
   "id": "22b7c0ec-f594-4e6a-92af-36bcbb9bad4c",
   "metadata": {},
   "outputs": [
    {
     "name": "stdout",
     "output_type": "stream",
     "text": [
      "+---------+---------+------------+----+---------+---------+\n",
      "|cname    |veh_no   |spname      |pqty|pdate    |vadd     |\n",
      "+---------+---------+------------+----+---------+---------+\n",
      "|CHRISTANA|MH14PA335|WHITE COLOUR|5   |20-OCT-11|OSMANABAD|\n",
      "+---------+---------+------------+----+---------+---------+\n",
      "\n"
     ]
    }
   ],
   "source": [
    "# And employee Name who serviced the vehicle. for Vehicle NUMBER \"MH14PA335\".\n",
    "\n",
    "dv1 = ser_det.join(customer,'cid').join(sparepart,'spid').join(purchase,'spid').join(vendor,'vid')\n",
    "dv1.select(customer.cname, ser_det.veh_no,sparepart.spname, purchase.pqty,purchase.pdate,vendor.vadd).where(ser_det.veh_no == 'MH14PA335').show(truncate=False)"
   ]
  },
  {
   "cell_type": "code",
   "execution_count": 74,
   "id": "c9a7f034-f338-4556-a944-fd6f73d2989a",
   "metadata": {},
   "outputs": [
    {
     "name": "stdout",
     "output_type": "stream",
     "text": [
      "+---------+\n",
      "|    cname|\n",
      "+---------+\n",
      "|CHRISTANA|\n",
      "+---------+\n",
      "\n"
     ]
    }
   ],
   "source": [
    "# \"\"\"Q28 who belong this vehicle MH14PA335\" Display the customer name \"\"\"\n",
    "\n",
    "ser_det.join(customer,\"cid\").where(col(\"veh_no\")==\"MH14PA335\").select(customer.cname).show()"
   ]
  },
  {
   "cell_type": "code",
   "execution_count": 75,
   "id": "47dd4ba8-bab4-4756-9b74-911bcd2a4057",
   "metadata": {},
   "outputs": [
    {
     "name": "stdout",
     "output_type": "stream",
     "text": [
      "+-----------+---------+\n",
      "|      cname| ser_date|\n",
      "+-----------+---------+\n",
      "|cyona blake|02-JAN-11|\n",
      "+-----------+---------+\n",
      "\n"
     ]
    }
   ],
   "source": [
    "# \"Q29 Display the name of customer who belongs to New York and when he /she service their vehicle on which date\"\n",
    "\n",
    "customer.join(ser_det,\"cid\").where(col(\"cadd\")==\"NEW YORK\").select(customer.cname,ser_det.ser_date).show()"
   ]
  },
  {
   "cell_type": "code",
   "execution_count": 77,
   "id": "8a2e3e35-8fde-472a-877b-17b9730e1ada",
   "metadata": {},
   "outputs": [
    {
     "name": "stdout",
     "output_type": "stream",
     "text": [
      "+-----------+--------+\n",
      "|      vname|   total|\n",
      "+-----------+--------+\n",
      "|KIRAN PATIL|115000.0|\n",
      "+-----------+--------+\n",
      "\n"
     ]
    }
   ],
   "source": [
    "# \"Q 30 from whom we have purchased items having maximum cost?\"\n",
    "\n",
    "purchase.join(vendor,'vid').orderBy(desc('total')).limit(1).select(vendor.vname,purchase.total).show()"
   ]
  },
  {
   "cell_type": "code",
   "execution_count": 79,
   "id": "fd18c694-cce5-4665-8248-e3b5e39bd399",
   "metadata": {},
   "outputs": [
    {
     "name": "stdout",
     "output_type": "stream",
     "text": [
      "+------------+--------------+\n",
      "|       ename|       typ_ser|\n",
      "+------------+--------------+\n",
      "| STEVEN KING|  TUBE DAMAGED|\n",
      "|DAVID AUSTIN|FULL SERVICING|\n",
      "|DAVID AUSTIN|FULL SERVICING|\n",
      "| STEVEN KING|         COLOR|\n",
      "| STEVEN KING|         COLOR|\n",
      "| STEVEN KING|  TUBE DAMAGED|\n",
      "+------------+--------------+\n",
      "\n"
     ]
    }
   ],
   "source": [
    "# \"Q31 Display the names of employees who are not working as Mechanic and that employee done services.\"\n",
    "\n",
    "employee.join(ser_det,'eid').where(col('ejob')!=\"MECHANIC\").select(employee.ename,ser_det.typ_ser).show()"
   ]
  },
  {
   "cell_type": "code",
   "execution_count": 80,
   "id": "60d27248-a591-4b74-b1f5-750fc9de08a5",
   "metadata": {},
   "outputs": [
    {
     "name": "stdout",
     "output_type": "stream",
     "text": [
      "+--------+----------+\n",
      "|    ejob|count_ejob|\n",
      "+--------+----------+\n",
      "|MECHANIC|         2|\n",
      "|  FITTER|         3|\n",
      "+--------+----------+\n",
      "\n"
     ]
    }
   ],
   "source": [
    "# \"Q32 Display the various jobs along with total number of employees in each job. The output should contain only those jobs with more than two employees.\"\n",
    "\n",
    "no_of_job = employee.groupBy(employee.ejob).agg(count(employee.ejob).alias('count_ejob'))\n",
    "no_of_job.select(employee.ejob, no_of_job.count_ejob).where(col('count_ejob') > 1).show()"
   ]
  },
  {
   "cell_type": "code",
   "execution_count": 83,
   "id": "5ff7c173-6044-4c36-aec5-ab091dc41685",
   "metadata": {},
   "outputs": [
    {
     "name": "stdout",
     "output_type": "stream",
     "text": [
      "+----+------------+-----------+----+\n",
      "| eid|       ename|emp_count01|denr|\n",
      "+----+------------+-----------+----+\n",
      "|3001| STEVEN KING|          4|   1|\n",
      "|3002|DAVID AUSTIN|          2|   2|\n",
      "|3004|    LUIS POP|          1|   3|\n",
      "+----+------------+-----------+----+\n",
      "\n"
     ]
    }
   ],
   "source": [
    "### Q33 Display the details of employees who done service and give them rank according to their no. of services .\n",
    "\n",
    "step_01 = employee.join(ser_det,'eid')\n",
    "step_02 = step_01.groupBy(ser_det.eid,employee.ename).agg(count(ser_det.eid).alias('emp_count01'))\n",
    "win_obj_09 = Window.orderBy(desc(col('emp_count01')))\n",
    "step_02.withColumn('denr',dense_rank().over(win_obj_09)).show()"
   ]
  },
  {
   "cell_type": "code",
   "execution_count": 84,
   "id": "81f1bc6f-a841-4938-901f-0899800d86c7",
   "metadata": {},
   "outputs": [
    {
     "name": "stdout",
     "output_type": "stream",
     "text": [
      "+------------+-------+\n",
      "|       ename|   ejob|\n",
      "+------------+-------+\n",
      "| STEVEN KING|PAINTER|\n",
      "|DAVID AUSTIN| FITTER|\n",
      "+------------+-------+\n",
      "\n"
     ]
    }
   ],
   "source": [
    "# Q 34 Display those employees who are working as Painter and fitter and who provide service and total count of service done by fitter and painter \n",
    "\n",
    "service_type = employee.join(ser_det,'eid').groupBy(employee.ename, employee.ejob).agg(count(col('typ_ser')).alias('counting'))\n",
    "service_type.select(employee.ename, employee.ejob).where((col('ejob') == 'PAINTER') | (col('ejob') == 'FITTER')).show()"
   ]
  },
  {
   "cell_type": "code",
   "execution_count": 85,
   "id": "87186cba-c648-4a61-be59-00d210e35e3c",
   "metadata": {},
   "outputs": [
    {
     "name": "stdout",
     "output_type": "stream",
     "text": [
      "+----+------------+--------+---------+--------+----+---------+---------+-------+\n",
      "|eid |ename       |ejob    |eadd     |econtact|esal|edoj     |edol     |Grading|\n",
      "+----+------------+--------+---------+--------+----+---------+---------+-------+\n",
      "|3000|JAMES PHILIP|FITTER  |PARIS    |10322264|null|01-JAN-08|null     |Grade E|\n",
      "|3003|BRUCE ERENST|MECHANIC|NEW JERCY|10367264|2200|08-SEP-10|null\\t   |Grade A|\n",
      "|3004|LUIS POP    |MECHANIC|NEW JERCY|10367264|1700|19-OCT-19|06-SEP-10|Grade B|\n",
      "|3001|STEVEN KING |PAINTER |NEW YORK |10367454|1200|01-JAN-08|null     |Grade C|\n",
      "|3002|DAVID AUSTIN|FITTER  |MANAHTON |10367434|110 |19-AUG-10|null     |Grade E|\n",
      "|3005|SHERI GOMES |FITTER  |PARIS    |10327264|1000|19-OCT-09|01-AUG-10|Grade D|\n",
      "+----+------------+--------+---------+--------+----+---------+---------+-------+\n",
      "\n"
     ]
    }
   ],
   "source": [
    "# Q35 Display employee salary and as per highest salary provide Grade to employee \n",
    "\n",
    "df_grade = employee.withColumn('Grading', when(col('esal') > 1700, 'Grade A')\n",
    "                           .when((col('esal') <= 1700) & (col('esal') > 1500), 'Grade B')\n",
    "                           .when((col('esal') <= 1500) & (col('esal') > 1000), 'Grade C')\n",
    "                           .when((col('esal') <= 1000) & (col('esal') > 500), 'Grade D')\n",
    "                           .otherwise('Grade E'))\n",
    "df_grade.orderBy(desc('esal')).show(truncate=False)"
   ]
  },
  {
   "cell_type": "code",
   "execution_count": 86,
   "id": "9f4fa6ec-2ad0-49ae-8756-f93466780d12",
   "metadata": {},
   "outputs": [
    {
     "name": "stdout",
     "output_type": "stream",
     "text": [
      "+----+------------+--------+---------+--------+----+---------+------+----------+\n",
      "| eid|       ename|    ejob|     eadd|econtact|esal|     edoj|  edol|row_number|\n",
      "+----+------------+--------+---------+--------+----+---------+------+----------+\n",
      "|3003|BRUCE ERENST|MECHANIC|NEW JERCY|10367264|2200|08-SEP-10|null\\t|         4|\n",
      "+----+------------+--------+---------+--------+----+---------+------+----------+\n",
      "\n"
     ]
    }
   ],
   "source": [
    "# Q36 display the 4th record of emp table without using group by and rowid\n",
    "\n",
    "rec_04 = Window.orderBy(asc('eid'))\n",
    "employee.withColumn('row_number', row_number().over(rec_04)).where(col('row_number') == 4).show()"
   ]
  },
  {
   "cell_type": "code",
   "execution_count": 87,
   "id": "1c5eea7a-26cd-4034-b836-7722ff541a0e",
   "metadata": {},
   "outputs": [
    {
     "name": "stdout",
     "output_type": "stream",
     "text": [
      "+----+----+----+----+------------+----------+--------------+---------+---+-------+------+----+-------+----+-----+--------------+\n",
      "|sid |cid |eid |spid|type_veh    |veh_no    |typ_ser       |ser_date |qty|sp_rate|sp_amt|sp_g|ser_amt|comm|total|New_Commission|\n",
      "+----+----+----+----+------------+----------+--------------+---------+---+-------+------+----+-------+----+-----+--------------+\n",
      "|6001|1001|3001|4001|TWO WHEELER |MH15CA3228|TUBE DAMAGED  |02-JAN-11|1.0|250    |250   |35  |50     |0   |335  |100           |\n",
      "|6002|1002|3002|4002|TWO WHEELER |MH16U5713 |FULL SERVICING|04-MAR-11|1.0|400    |400   |52  |300    |50  |752  |50            |\n",
      "|6003|1003|3004|4005|TWO WHEELER |MH12PQ1313|CLUTCH WIRE   |22-AUG-11|1.0|129    |129   |0   |10     |0   |139  |100           |\n",
      "|6004|1002|3002|4002|TWO WHEELER |MH16U5713 |FULL SERVICING|05-MAY-11|1.0|400    |400   |52  |300    |50  |752  |50            |\n",
      "|6005|1004|3001|4009|TWO WHEELER |MH14PA335 |COLOR         |21-OCT-11|2.5|340    |850   |119 |500    |150 |1469 |150           |\n",
      "|6006|1006|3001|4009|TWO WHEELER |MH12WE334 |COLOR         |01-DEC-11|2.5|340    |850   |119 |500    |150 |1469 |150           |\n",
      "|6007|1007|3001|4001|FOUR WHEELER|MH17BB1345|TUBE DAMAGED  |01-JAN-12|1.0|250    |250   |35  |150    |0   |435  |100           |\n",
      "+----+----+----+----+------------+----------+--------------+---------+---+-------+------+----+-------+----+-----+--------------+\n",
      "\n"
     ]
    }
   ],
   "source": [
    "# Q37 Provide a commission 100 to employees who are not earning any commission.\n",
    "\n",
    "commission = ser_det.withColumn('New_Commission', when(col('comm').isNull() | (col('comm') == 0), 100).otherwise(col('comm'))).show(truncate=False)"
   ]
  },
  {
   "cell_type": "code",
   "execution_count": 88,
   "id": "cbdd9018-6872-4690-be54-ed5f80c96f45",
   "metadata": {},
   "outputs": [
    {
     "name": "stdout",
     "output_type": "stream",
     "text": [
      "+---------+---------------+\n",
      "| ser_date|per day service|\n",
      "+---------+---------------+\n",
      "|05-MAY-11|              1|\n",
      "|22-AUG-11|              1|\n",
      "|02-JAN-11|              1|\n",
      "|21-OCT-11|              1|\n",
      "|04-MAR-11|              1|\n",
      "|01-JAN-12|              1|\n",
      "|01-DEC-11|              1|\n",
      "+---------+---------------+\n",
      "\n"
     ]
    }
   ],
   "source": [
    "# Q38 write a query that totals no. of services for each day and place the results in descending order\n",
    "\n",
    "ser_det.groupBy(ser_det.ser_date).agg(count(ser_det.ser_date).alias('per day service')).show()"
   ]
  },
  {
   "cell_type": "code",
   "execution_count": 89,
   "id": "47ac4c3e-26cd-4865-b51f-d8797bc89cf1",
   "metadata": {},
   "outputs": [
    {
     "name": "stdout",
     "output_type": "stream",
     "text": [
      "+-----------+--------+----------+------------+-----------+\n",
      "|cname      |cadd    |veh_no    |typ_ser     |type_veh   |\n",
      "+-----------+--------+----------+------------+-----------+\n",
      "|cyona blake|NEW YORK|MH15CA3228|TUBE DAMAGED|TWO WHEELER|\n",
      "+-----------+--------+----------+------------+-----------+\n",
      "\n"
     ]
    }
   ],
   "source": [
    "# Q39 Display the service details of those customer who belong from same city as that of respective employee. #####\n",
    "\n",
    "city = ser_det.join(employee,'eid').join(customer, 'cid')\n",
    "same_city = city.select(customer.cname, customer.cadd, ser_det.veh_no, ser_det.typ_ser, ser_det.type_veh).where(employee.eadd == customer.cadd).show(truncate=False)"
   ]
  },
  {
   "cell_type": "code",
   "execution_count": 67,
   "id": "2c7f2bbc-69d2-497c-adcc-87dd39d0ea63",
   "metadata": {
    "collapsed": true,
    "jupyter": {
     "outputs_hidden": true
    }
   },
   "outputs": [],
   "source": [
    "# Q40 write a query join customers table to itself to find all pairs of customers service by a single employee."
   ]
  },
  {
   "cell_type": "code",
   "execution_count": 90,
   "id": "7adb7390-2503-4027-ac30-bef84e03e89b",
   "metadata": {},
   "outputs": [
    {
     "name": "stdout",
     "output_type": "stream",
     "text": [
      "+------------+----+\n",
      "|       cname| sid|\n",
      "+------------+----+\n",
      "| cyona blake|6001|\n",
      "|  JOHN SMITH|6004|\n",
      "|  JOHN SMITH|6002|\n",
      "| JORDEN WOOD|6003|\n",
      "|   CHRISTANA|6005|\n",
      "|KAMILA JOSEF|6006|\n",
      "| ANDRU SYMON|6007|\n",
      "+------------+----+\n",
      "\n"
     ]
    }
   ],
   "source": [
    "# Q41 List each service number follow by name of the customer who made that service\n",
    "\n",
    "customer.join(ser_det,'cid').select(customer.cname, ser_det.sid).show()"
   ]
  },
  {
   "cell_type": "code",
   "execution_count": 91,
   "id": "e0d0fcc8-e75e-40d3-9c30-31f53c6be31b",
   "metadata": {},
   "outputs": [
    {
     "name": "stdout",
     "output_type": "stream",
     "text": [
      "+----+------------+----+---------+----------+------+\n",
      "| eid|       ename|esal|     eadd|serv_count|Rating|\n",
      "+----+------------+----+---------+----------+------+\n",
      "|3001| STEVEN KING|1200| NEW YORK|         4|     A|\n",
      "|3002|DAVID AUSTIN| 110| MANAHTON|         2|     B|\n",
      "|3004|    LUIS POP|1700|NEW JERCY|         1|     C|\n",
      "+----+------------+----+---------+----------+------+\n",
      "\n"
     ]
    }
   ],
   "source": [
    "# Q42 Write a query to get details of employee and provide rating on basis of maximum services provide by employee.Note (rating should be like A,B,C,D)\n",
    "\n",
    "emp_abcd = ser_det.join(employee,'eid').groupBy(employee.eid,employee.ename,employee.esal,employee.eadd).agg(count(ser_det.eid).alias('serv_count'))\n",
    "emp_rating = emp_abcd.withColumn('Rating',when(col('serv_count')>3,'A').when(col('serv_count')>=2,'B').otherwise('C'))\n",
    "emp_rating.orderBy(asc('Rating')).show()"
   ]
  },
  {
   "cell_type": "code",
   "execution_count": 92,
   "id": "703d8fcc-f0b8-46f7-9f86-20b351979620",
   "metadata": {},
   "outputs": [
    {
     "name": "stdout",
     "output_type": "stream",
     "text": [
      "+----+------------+---------+-------+\n",
      "| cid|       cname|     cadd|cus_amt|\n",
      "+----+------------+---------+-------+\n",
      "|1001| cyona blake| NEW YORK|    335|\n",
      "|1002|  JOHN SMITH|NEW JERSI|   1504|\n",
      "|1007| ANDRU SYMON|    TEXAS|    435|\n",
      "|1004|   CHRISTANA|MANHATTON|   1469|\n",
      "|1006|KAMILA JOSEF|   PRAISE|   1469|\n",
      "|1003| JORDEN WOOD|     PRAG|    139|\n",
      "+----+------------+---------+-------+\n",
      "\n"
     ]
    }
   ],
   "source": [
    "# Q43 Write a query to get maximum service amount of each customer with their customer details?\n",
    "\n",
    "customer.join(ser_det,'cid').groupBy(customer.cid,customer.cname,customer.cadd).agg(sum(ser_det.total).alias('cus_amt')).show()"
   ]
  },
  {
   "cell_type": "code",
   "execution_count": 99,
   "id": "3a4b8401-9235-407c-9591-55dbb843f5fb",
   "metadata": {},
   "outputs": [
    {
     "name": "stdout",
     "output_type": "stream",
     "text": [
      "+----+------------+---------+-------+\n",
      "| cid|       cname|     cadd|cus_amt|\n",
      "+----+------------+---------+-------+\n",
      "|1001| cyona blake| NEW YORK|      1|\n",
      "|1002|  JOHN SMITH|NEW JERSI|      2|\n",
      "|1007| ANDRU SYMON|    TEXAS|      1|\n",
      "|1004|   CHRISTANA|MANHATTON|      1|\n",
      "|1006|KAMILA JOSEF|   PRAISE|      1|\n",
      "|1003| JORDEN WOOD|     PRAG|      1|\n",
      "+----+------------+---------+-------+\n",
      "\n"
     ]
    }
   ],
   "source": [
    "# Q44 Get the details of customers with his total no of services ?\n",
    "\n",
    "customer.join(ser_det,'cid').groupBy(customer.cid,customer.cname,customer.cadd).agg(count(ser_det.cid).alias('cus_amt')).show()"
   ]
  },
  {
   "cell_type": "code",
   "execution_count": 101,
   "id": "0af0ec81-59d3-4474-86c3-651a9bb2de01",
   "metadata": {},
   "outputs": [
    {
     "name": "stdout",
     "output_type": "stream",
     "text": [
      "+-----------+----+------+\n",
      "|      vname|vadd|sprate|\n",
      "+-----------+----+------+\n",
      "|KIRAN PATIL|PUNE|  5000|\n",
      "+-----------+----+------+\n",
      "\n"
     ]
    }
   ],
   "source": [
    "# Q45 From which location sparepart purchased with highest cost ?\n",
    "\n",
    "purchase.join(vendor, 'vid').join(sparepart,'spid').orderBy(desc('total')).limit(1).select(vendor.vname,vendor.vadd,sparepart.sprate).show()"
   ]
  },
  {
   "cell_type": "code",
   "execution_count": 102,
   "id": "46742fe5-569a-454e-b704-4fa29684e71a",
   "metadata": {},
   "outputs": [
    {
     "name": "stdout",
     "output_type": "stream",
     "text": [
      "+-----+-------+\n",
      "|ename|typ_ser|\n",
      "+-----+-------+\n",
      "+-----+-------+\n",
      "\n"
     ]
    }
   ],
   "source": [
    "# Q46 Get the details of employee with their service details who has salary is null\n",
    "\n",
    "employee.join(ser_det,\"eid\").where(employee.esal==\"null\").select(employee.ename,ser_det.typ_ser).show() # is correct"
   ]
  },
  {
   "cell_type": "code",
   "execution_count": 103,
   "id": "4517da33-8fff-414f-9d7a-a696dd6b09b2",
   "metadata": {},
   "outputs": [
    {
     "name": "stdout",
     "output_type": "stream",
     "text": [
      "+---------+----------+\n",
      "|     vadd|sum(total)|\n",
      "+---------+----------+\n",
      "| BULDHANA|    2320.0|\n",
      "|   MUNBAI|    1988.0|\n",
      "|   NASHIK|    6251.6|\n",
      "|OSMANABAD|   8516.96|\n",
      "|     PUNE|  119150.0|\n",
      "|   SATARA|    1569.8|\n",
      "+---------+----------+\n",
      "\n"
     ]
    }
   ],
   "source": [
    "# Q47 find the sum of purchase location wise \n",
    "\n",
    "purchase.join(vendor, 'vid').groupBy(col('vadd')).agg(sum('total')).show()"
   ]
  },
  {
   "cell_type": "code",
   "execution_count": 75,
   "id": "935e41c1-c456-4db9-9e56-df634c57387f",
   "metadata": {
    "collapsed": true,
    "jupyter": {
     "outputs_hidden": true
    }
   },
   "outputs": [],
   "source": [
    "# Q48 write a query sum of purchase amount in word location wise ?"
   ]
  },
  {
   "cell_type": "code",
   "execution_count": 104,
   "id": "b22d0f7b-e624-4927-a32b-24ed636589ee",
   "metadata": {},
   "outputs": [
    {
     "name": "stdout",
     "output_type": "stream",
     "text": [
      "+----+------------+---------+-------+----------+---+\n",
      "| cid|       cname|     cadd|cus_amt|row_number| CR|\n",
      "+----+------------+---------+-------+----------+---+\n",
      "|1003| JORDEN WOOD|     PRAG|    139|         1|  A|\n",
      "|1001| cyona blake| NEW YORK|    335|         2|  B|\n",
      "|1007| ANDRU SYMON|    TEXAS|    435|         3|  C|\n",
      "|1004|   CHRISTANA|MANHATTON|   1469|         4|  D|\n",
      "|1006|KAMILA JOSEF|   PRAISE|   1469|         5|  E|\n",
      "|1002|  JOHN SMITH|NEW JERSI|   1504|         6|  F|\n",
      "+----+------------+---------+-------+----------+---+\n",
      "\n"
     ]
    }
   ],
   "source": [
    "### Q49 Has the customer who has spent the largest amount money has been give highest rating\n",
    "\n",
    "cplm = customer.join(ser_det,'cid').groupBy(customer.cid,customer.cname,customer.cadd).agg(sum(ser_det.total).alias('cus_amt'))\n",
    "c_rate01 = Window.orderBy(asc('cus_amt'))\n",
    "c_rate02 = cplm.withColumn('row_number', row_number().over(c_rate01))\n",
    "c_rate02.withColumn('CR',when(col('row_number')==1,'A')\n",
    "                    .when(col('row_number')==2,'B')\n",
    "                    .when(col('row_number')==3,'C')\n",
    "                    .when(col('row_number')==4,'D')\n",
    "                    .when(col('row_number')==5,'E')\n",
    "                   .otherwise('F')).show()"
   ]
  },
  {
   "cell_type": "code",
   "execution_count": 105,
   "id": "d83bac3c-ff21-4cf0-a925-1872d7bf18e9",
   "metadata": {},
   "outputs": [
    {
     "name": "stdout",
     "output_type": "stream",
     "text": [
      "+----+----------+---------+-------+\n",
      "| cid|     cname|     cadd|cus_amt|\n",
      "+----+----------+---------+-------+\n",
      "|1002|JOHN SMITH|NEW JERSI|   1504|\n",
      "+----+----------+---------+-------+\n",
      "\n"
     ]
    }
   ],
   "source": [
    "# Q50 select the total amount in service for each customer for which the total is greater than the amount of the largest service amount in the table\n",
    "\n",
    "ctst = customer.join(ser_det,'cid').groupBy(customer.cid,customer.cname,customer.cadd).agg(sum(ser_det.total).alias('cus_amt'))\n",
    "ctst.where(col('cus_amt')>max(ser_det.total)).show()"
   ]
  },
  {
   "cell_type": "code",
   "execution_count": 106,
   "id": "f9f0c4c5-8f62-4ebe-9b26-1728012f3b7c",
   "metadata": {},
   "outputs": [
    {
     "name": "stdout",
     "output_type": "stream",
     "text": [
      "+------------+-----------------------+------------+\n",
      "|cname       |spname                 |type_veh    |\n",
      "+------------+-----------------------+------------+\n",
      "|cyona blake |TWO WHEELER TUBE       |TWO WHEELER |\n",
      "|JOHN SMITH  |TWO WHEELER ENGINE OIL |TWO WHEELER |\n",
      "|JORDEN WOOD |TWO WHEELER CLUTCH WIRE|TWO WHEELER |\n",
      "|JOHN SMITH  |TWO WHEELER ENGINE OIL |TWO WHEELER |\n",
      "|CHRISTANA   |WHITE COLOUR           |TWO WHEELER |\n",
      "|KAMILA JOSEF|WHITE COLOUR           |TWO WHEELER |\n",
      "|ANDRU SYMON |TWO WHEELER TUBE       |FOUR WHEELER|\n",
      "+------------+-----------------------+------------+\n",
      "\n"
     ]
    }
   ],
   "source": [
    "# Q51 List the customer name and sparepart name used for their vehicle and vehicle type\n",
    "\n",
    "opp_01 = ser_det.join(customer,\"cid\").join(sparepart,\"spid\")\n",
    "opp_01.select(customer.cname,sparepart.spname,ser_det.type_veh).show(truncate=False)"
   ]
  },
  {
   "cell_type": "code",
   "execution_count": 107,
   "id": "69221d75-68d7-4c56-927f-590b3028635f",
   "metadata": {},
   "outputs": [
    {
     "name": "stdout",
     "output_type": "stream",
     "text": [
      "+------------+---+-------+------------+--------------------+\n",
      "|       cname|qty|sp_rate|       ename|              spname|\n",
      "+------------+---+-------+------------+--------------------+\n",
      "| cyona blake|1.0|    250| STEVEN KING|    TWO WHEELER TUBE|\n",
      "|  JOHN SMITH|1.0|    400|DAVID AUSTIN|TWO WHEELER ENGIN...|\n",
      "| JORDEN WOOD|1.0|    129|    LUIS POP|TWO WHEELER CLUTC...|\n",
      "|  JOHN SMITH|1.0|    400|DAVID AUSTIN|TWO WHEELER ENGIN...|\n",
      "|   CHRISTANA|2.5|    340| STEVEN KING|        WHITE COLOUR|\n",
      "|KAMILA JOSEF|2.5|    340| STEVEN KING|        WHITE COLOUR|\n",
      "| ANDRU SYMON|1.0|    250| STEVEN KING|    TWO WHEELER TUBE|\n",
      "+------------+---+-------+------------+--------------------+\n",
      "\n"
     ]
    }
   ],
   "source": [
    "# Q52 Write a query to get spname ,ename,cname quantity ,rate ,service amount for record exist in service table\n",
    "\n",
    "result01 = ser_det.join(customer,customer[\"cid\"]==ser_det[\"cid\"],\"inner\").join(employee,employee[\"eid\"]==ser_det[\"eid\"],\"inner\")\\\n",
    "    .join(sparepart,sparepart[\"spid\"]==ser_det[\"spid\"],\"inner\")\n",
    "result01.select(customer.cname,ser_det.qty,ser_det.sp_rate,employee.ename,sparepart.spname).show()\n",
    "\n",
    "# result_01 = ser_det.join(customer, \"cid\").join(employee, \"eid\").join(sparepart, \"spid\")\n",
    "# result_01.select(customer.cname, ser_det.qty, ser_det.sp_rate, employee.ename, sparepart.spname).show()"
   ]
  },
  {
   "cell_type": "code",
   "execution_count": 109,
   "id": "0fb5bd6d-8296-430e-903f-205db8a2f5eb",
   "metadata": {},
   "outputs": [
    {
     "name": "stdout",
     "output_type": "stream",
     "text": [
      "+-----------+------------+\n",
      "|      cname|     typ_ser|\n",
      "+-----------+------------+\n",
      "|cyona blake|TUBE DAMAGED|\n",
      "|ANDRU SYMON|TUBE DAMAGED|\n",
      "+-----------+------------+\n",
      "\n"
     ]
    }
   ],
   "source": [
    "# Q53 specify the vehicles owners who’s tube damaged.\n",
    "\n",
    "customer.join(ser_det, \"cid\").select(customer.cname,ser_det.typ_ser).where(col(\"typ_ser\") == \"TUBE DAMAGED\").show()"
   ]
  },
  {
   "cell_type": "code",
   "execution_count": 111,
   "id": "8346a4c0-bf71-4a10-9d58-ba3c8a6f8d04",
   "metadata": {},
   "outputs": [
    {
     "name": "stdout",
     "output_type": "stream",
     "text": [
      "+----------+--------------+\n",
      "|     cname|       typ_ser|\n",
      "+----------+--------------+\n",
      "|JOHN SMITH|FULL SERVICING|\n",
      "|JOHN SMITH|FULL SERVICING|\n",
      "+----------+--------------+\n",
      "\n"
     ]
    }
   ],
   "source": [
    "# Q.54 Specify the details who have taken full service. ####\n",
    "\n",
    "customer.join(ser_det,\"cid\").select(customer.cname,ser_det.typ_ser).where(col(\"typ_ser\")==\"FULL SERVICING\").show()"
   ]
  },
  {
   "cell_type": "code",
   "execution_count": 112,
   "id": "36bed5ab-df8b-4e01-9f15-a3103bdbede8",
   "metadata": {},
   "outputs": [
    {
     "name": "stdout",
     "output_type": "stream",
     "text": [
      "+----+------------+--------+---------+--------+----+---------+---------+\n",
      "| eid|       ename|    ejob|     eadd|econtact|esal|     edoj|     edol|\n",
      "+----+------------+--------+---------+--------+----+---------+---------+\n",
      "|3003|BRUCE ERENST|MECHANIC|NEW JERCY|10367264|2200|08-SEP-10|   null\\t|\n",
      "|3005| SHERI GOMES|  FITTER|    PARIS|10327264|1000|19-OCT-09|01-AUG-10|\n",
      "+----+------------+--------+---------+--------+----+---------+---------+\n",
      "\n"
     ]
    }
   ],
   "source": [
    "# Q.55 Select the employees who have not worked yet and left the job.\n",
    "\n",
    "employee.join(ser_det,\"eid\",\"anti\").where(col(\"edol\")!=\"null\").show()"
   ]
  },
  {
   "cell_type": "code",
   "execution_count": 113,
   "id": "99a7af70-9f8e-4a93-8be9-0689908a2a94",
   "metadata": {},
   "outputs": [
    {
     "name": "stdout",
     "output_type": "stream",
     "text": [
      "+----+------------+------+--------+--------+----+---------+----+\n",
      "| eid|       ename|  ejob|    eadd|econtact|esal|     edoj|edol|\n",
      "+----+------------+------+--------+--------+----+---------+----+\n",
      "|3002|DAVID AUSTIN|FITTER|MANAHTON|10367434| 110|19-AUG-10|null|\n",
      "+----+------------+------+--------+--------+----+---------+----+\n",
      "\n"
     ]
    }
   ],
   "source": [
    "# Q.56 Select employee who have worked first ever.\n",
    "\n",
    "employee.orderBy(col('ejob')).limit(1).show()\n",
    "\n",
    "# employee.orderBy(col('ejob')).show(1)"
   ]
  },
  {
   "cell_type": "code",
   "execution_count": 116,
   "id": "bbc5f23c-1c90-4c77-b721-a71997fcbbcc",
   "metadata": {},
   "outputs": [
    {
     "name": "stdout",
     "output_type": "stream",
     "text": [
      "+----+----+----+----+------------+----------+--------------+---------+---+-------+------+----+-------+----+-----+----------+\n",
      "| sid| cid| eid|spid|    type_veh|    veh_no|       typ_ser| ser_date|qty|sp_rate|sp_amt|sp_g|ser_amt|comm|total|ser_date_1|\n",
      "+----+----+----+----+------------+----------+--------------+---------+---+-------+------+----+-------+----+-----+----------+\n",
      "|6004|1002|3002|4002| TWO WHEELER| MH16U5713|FULL SERVICING|05-MAY-11|1.0|    400|   400|  52|    300|  50|  752|2011-05-05|\n",
      "|6005|1004|3001|4009| TWO WHEELER| MH14PA335|         COLOR|21-OCT-11|2.5|    340|   850| 119|    500| 150| 1469|2011-10-21|\n",
      "|6006|1006|3001|4009| TWO WHEELER| MH12WE334|         COLOR|01-DEC-11|2.5|    340|   850| 119|    500| 150| 1469|2011-12-01|\n",
      "|6007|1007|3001|4001|FOUR WHEELER|MH17BB1345|  TUBE DAMAGED|01-JAN-12|1.0|    250|   250|  35|    150|   0|  435|2012-01-01|\n",
      "+----+----+----+----+------------+----------+--------------+---------+---+-------+------+----+-------+----+-----+----------+\n",
      "\n"
     ]
    }
   ],
   "source": [
    "# Q.57 Display all records falling in odd date\n",
    "\n",
    "ser_da = ser_det.withColumn('ser_date_1',to_date(col('ser_date'),'dd-MMM-yy'))\n",
    "odd_date = ser_da.filter(dayofmonth('ser_date_1') % 2 != 0)\n",
    "odd_date.show()"
   ]
  },
  {
   "cell_type": "code",
   "execution_count": 117,
   "id": "4a1c2356-1311-4432-99c6-a42f2f55b986",
   "metadata": {},
   "outputs": [
    {
     "name": "stdout",
     "output_type": "stream",
     "text": [
      "+----+----+----+----+-----------+----------+--------------+---------+---+-------+------+----+-------+----+-----+----------+\n",
      "| sid| cid| eid|spid|   type_veh|    veh_no|       typ_ser| ser_date|qty|sp_rate|sp_amt|sp_g|ser_amt|comm|total|ser_date_2|\n",
      "+----+----+----+----+-----------+----------+--------------+---------+---+-------+------+----+-------+----+-----+----------+\n",
      "|6001|1001|3001|4001|TWO WHEELER|MH15CA3228|  TUBE DAMAGED|02-JAN-11|1.0|    250|   250|  35|     50|   0|  335|2011-01-02|\n",
      "|6002|1002|3002|4002|TWO WHEELER| MH16U5713|FULL SERVICING|04-MAR-11|1.0|    400|   400|  52|    300|  50|  752|2011-03-04|\n",
      "|6003|1003|3004|4005|TWO WHEELER|MH12PQ1313|   CLUTCH WIRE|22-AUG-11|1.0|    129|   129|   0|     10|   0|  139|2011-08-22|\n",
      "+----+----+----+----+-----------+----------+--------------+---------+---+-------+------+----+-------+----+-----+----------+\n",
      "\n"
     ]
    }
   ],
   "source": [
    "# Q.58 Display all records falling in even date.\n",
    "\n",
    "ser_da2 = ser_det.withColumn('ser_date_2', to_date(col('ser_date'), 'dd-MMM-yy'))\n",
    "even_date = ser_da2.filter(dayofmonth('ser_date_2') % 2 == 0)\n",
    "even_date.show()"
   ]
  },
  {
   "cell_type": "code",
   "execution_count": 118,
   "id": "67a5ea10-d510-4ae8-baac-f4b6d576a18d",
   "metadata": {},
   "outputs": [
    {
     "name": "stdout",
     "output_type": "stream",
     "text": [
      "+---+----+---+----+------+-----+-----+---------+-----+-------+---+---+---+--------+------+-------+--------+---+-------+------+----+-------+----+-----+\n",
      "|vid|spid|pid|pqty|sprate|spgst|pdate|transcost|total|rcv_eid|sid|cid|eid|type_veh|veh_no|typ_ser|ser_date|qty|sp_rate|sp_amt|sp_g|ser_amt|comm|total|\n",
      "+---+----+---+----+------+-----+-----+---------+-----+-------+---+---+---+--------+------+-------+--------+---+-------+------+----+-------+----+-----+\n",
      "+---+----+---+----+------+-----+-----+---------+-----+-------+---+---+---+--------+------+-------+--------+---+-------+------+----+-------+----+-----+\n",
      "\n"
     ]
    }
   ],
   "source": [
    "# Q.59 Display the vendors whose material is not yet used.\n",
    "\n",
    "purchase.join(ser_det,\"spid\").join(vendor,\"vid\",\"anti\").show()"
   ]
  },
  {
   "cell_type": "code",
   "execution_count": 119,
   "id": "6fe66ef8-a92b-4d8d-bf6e-97a34e9a4977",
   "metadata": {},
   "outputs": [
    {
     "name": "stdout",
     "output_type": "stream",
     "text": [
      "+----+----+----+----+------+-----+---------+---------+------+-------+----+----+----+------------+----------+--------------+---------+---+-------+------+----+-------+----+-----+-------+\n",
      "|spid| pid| vid|pqty|sprate|spgst|    pdate|transcost| total|rcv_eid| sid| cid| eid|    type_veh|    veh_no|       typ_ser| ser_date|qty|sp_rate|sp_amt|sp_g|ser_amt|comm|total|diffdat|\n",
      "+----+----+----+----+------+-----+---------+---------+------+-------+----+----+----+------------+----------+--------------+---------+---+-------+------+----+-------+----+-----+-------+\n",
      "|4001|5001|2001|  10|   250|350.0|01-JAN-11|     1300|4150.0|   3001|6001|1001|3001| TWO WHEELER|MH15CA3228|  TUBE DAMAGED|02-JAN-11|1.0|    250|   250|  35|     50|   0|  335|      1|\n",
      "|4002|5002|2002|   4|   400|288.0|02-MAR-11|      100|1988.0|   3001|6002|1002|3002| TWO WHEELER| MH16U5713|FULL SERVICING|04-MAR-11|1.0|    400|   400|  52|    300|  50|  752|      2|\n",
      "|4005|5009|2006|   1|   129|15.48|15-OCT-11|       50|194.48|   3005|6003|1003|3004| TWO WHEELER|MH12PQ1313|   CLUTCH WIRE|22-AUG-11|1.0|    129|   129|   0|     10|   0|  139|    -54|\n",
      "|4005|5008|2006|   1|   129|15.48|12-OCT-11|       50|194.48|   3005|6003|1003|3004| TWO WHEELER|MH12PQ1313|   CLUTCH WIRE|22-AUG-11|1.0|    129|   129|   0|     10|   0|  139|    -51|\n",
      "|4005|5004|2004|  10|   129|154.8|22-AUG-11|      125|1569.8|   3004|6003|1003|3004| TWO WHEELER|MH12PQ1313|   CLUTCH WIRE|22-AUG-11|1.0|    129|   129|   0|     10|   0|  139|      0|\n",
      "|4002|5002|2002|   4|   400|288.0|02-MAR-11|      100|1988.0|   3001|6004|1002|3002| TWO WHEELER| MH16U5713|FULL SERVICING|05-MAY-11|1.0|    400|   400|  52|    300|  50|  752|     64|\n",
      "|4009|5010|2006|   5|   340|238.0|20-OCT-11|        0|2938.0|   3005|6005|1004|3001| TWO WHEELER| MH14PA335|         COLOR|21-OCT-11|2.5|    340|   850| 119|    500| 150| 1469|      1|\n",
      "|4009|5010|2006|   5|   340|238.0|20-OCT-11|        0|2938.0|   3005|6006|1006|3001| TWO WHEELER| MH12WE334|         COLOR|01-DEC-11|2.5|    340|   850| 119|    500| 150| 1469|     42|\n",
      "|4001|5001|2001|  10|   250|350.0|01-JAN-11|     1300|4150.0|   3001|6007|1007|3001|FOUR WHEELER|MH17BB1345|  TUBE DAMAGED|01-JAN-12|1.0|    250|   250|  35|    150|   0|  435|    365|\n",
      "+----+----+----+----+------+-----+---------+---------+------+-------+----+----+----+------------+----------+--------------+---------+---+-------+------+----+-------+----+-----+-------+\n",
      "\n"
     ]
    }
   ],
   "source": [
    "# Q.60 Difference between purchase date and used date of spare part.\n",
    "\n",
    "diffdates_01 = purchase.join(ser_det,'spid')\n",
    "colnu21 = diffdates_01.withColumn(\"diffdat\",datediff(to_date(\"ser_date\", 'dd-MMM-yy'), to_date(\"pdate\", 'dd-MMM-yy'))).show()#####"
   ]
  }
 ],
 "metadata": {
  "kernelspec": {
   "display_name": "Python 3 (ipykernel)",
   "language": "python",
   "name": "python3"
  },
  "language_info": {
   "codemirror_mode": {
    "name": "ipython",
    "version": 3
   },
   "file_extension": ".py",
   "mimetype": "text/x-python",
   "name": "python",
   "nbconvert_exporter": "python",
   "pygments_lexer": "ipython3",
   "version": "3.11.3"
  }
 },
 "nbformat": 4,
 "nbformat_minor": 5
}
